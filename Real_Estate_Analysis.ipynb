{
  "nbformat": 4,
  "nbformat_minor": 0,
  "metadata": {
    "colab": {
      "name": "Real Estate Analysis.ipynb",
      "provenance": [],
      "collapsed_sections": []
    },
    "kernelspec": {
      "name": "python3",
      "display_name": "Python 3"
    },
    "language_info": {
      "name": "python"
    }
  },
  "cells": [
    {
      "cell_type": "markdown",
      "metadata": {
        "id": "KAeKprK8pQq4"
      },
      "source": [
        "#Importing libraries"
      ]
    },
    {
      "cell_type": "code",
      "metadata": {
        "id": "0PxKKqXFocQy"
      },
      "source": [
        "import pandas as pd #data processing\n",
        "import numpy as np #linear algebra\n",
        "import seaborn as sns #plotting\n",
        "import matplotlib.pyplot as plt #plotting"
      ],
      "execution_count": 1,
      "outputs": []
    },
    {
      "cell_type": "markdown",
      "metadata": {
        "id": "LfKekkQIpi82"
      },
      "source": [
        "#Loading the dataset"
      ]
    },
    {
      "cell_type": "code",
      "metadata": {
        "colab": {
          "base_uri": "https://localhost:8080/",
          "height": 439
        },
        "id": "a9ypINiJpnjc",
        "outputId": "f9e3d0c2-a943-4fe7-b043-5cae5f404bbf"
      },
      "source": [
        "df = pd.read_csv('/content/house_data.csv')\n",
        "df"
      ],
      "execution_count": 2,
      "outputs": [
        {
          "output_type": "execute_result",
          "data": {
            "text/html": [
              "<div>\n",
              "<style scoped>\n",
              "    .dataframe tbody tr th:only-of-type {\n",
              "        vertical-align: middle;\n",
              "    }\n",
              "\n",
              "    .dataframe tbody tr th {\n",
              "        vertical-align: top;\n",
              "    }\n",
              "\n",
              "    .dataframe thead th {\n",
              "        text-align: right;\n",
              "    }\n",
              "</style>\n",
              "<table border=\"1\" class=\"dataframe\">\n",
              "  <thead>\n",
              "    <tr style=\"text-align: right;\">\n",
              "      <th></th>\n",
              "      <th>id</th>\n",
              "      <th>price</th>\n",
              "      <th>bedrooms</th>\n",
              "      <th>bathrooms</th>\n",
              "      <th>sqft_living</th>\n",
              "      <th>sqft_lot</th>\n",
              "      <th>floors</th>\n",
              "      <th>waterfront</th>\n",
              "      <th>view</th>\n",
              "      <th>condition</th>\n",
              "      <th>grade</th>\n",
              "      <th>sqft_above</th>\n",
              "      <th>sqft_basement</th>\n",
              "      <th>yr_built</th>\n",
              "      <th>yr_renovated</th>\n",
              "      <th>zipcode</th>\n",
              "      <th>lat</th>\n",
              "      <th>long</th>\n",
              "      <th>sqft_living15</th>\n",
              "      <th>sqft_lot15</th>\n",
              "    </tr>\n",
              "  </thead>\n",
              "  <tbody>\n",
              "    <tr>\n",
              "      <th>0</th>\n",
              "      <td>7129300520</td>\n",
              "      <td>221900.0</td>\n",
              "      <td>3</td>\n",
              "      <td>1.00</td>\n",
              "      <td>1180</td>\n",
              "      <td>5650</td>\n",
              "      <td>1.0</td>\n",
              "      <td>0</td>\n",
              "      <td>0</td>\n",
              "      <td>3</td>\n",
              "      <td>7</td>\n",
              "      <td>1180</td>\n",
              "      <td>0</td>\n",
              "      <td>1955</td>\n",
              "      <td>0</td>\n",
              "      <td>98178</td>\n",
              "      <td>47.5112</td>\n",
              "      <td>-122.257</td>\n",
              "      <td>1340</td>\n",
              "      <td>5650</td>\n",
              "    </tr>\n",
              "    <tr>\n",
              "      <th>1</th>\n",
              "      <td>6414100192</td>\n",
              "      <td>538000.0</td>\n",
              "      <td>3</td>\n",
              "      <td>2.25</td>\n",
              "      <td>2570</td>\n",
              "      <td>7242</td>\n",
              "      <td>2.0</td>\n",
              "      <td>0</td>\n",
              "      <td>0</td>\n",
              "      <td>3</td>\n",
              "      <td>7</td>\n",
              "      <td>2170</td>\n",
              "      <td>400</td>\n",
              "      <td>1951</td>\n",
              "      <td>1991</td>\n",
              "      <td>98125</td>\n",
              "      <td>47.7210</td>\n",
              "      <td>-122.319</td>\n",
              "      <td>1690</td>\n",
              "      <td>7639</td>\n",
              "    </tr>\n",
              "    <tr>\n",
              "      <th>2</th>\n",
              "      <td>5631500400</td>\n",
              "      <td>180000.0</td>\n",
              "      <td>2</td>\n",
              "      <td>1.00</td>\n",
              "      <td>770</td>\n",
              "      <td>10000</td>\n",
              "      <td>1.0</td>\n",
              "      <td>0</td>\n",
              "      <td>0</td>\n",
              "      <td>3</td>\n",
              "      <td>6</td>\n",
              "      <td>770</td>\n",
              "      <td>0</td>\n",
              "      <td>1933</td>\n",
              "      <td>0</td>\n",
              "      <td>98028</td>\n",
              "      <td>47.7379</td>\n",
              "      <td>-122.233</td>\n",
              "      <td>2720</td>\n",
              "      <td>8062</td>\n",
              "    </tr>\n",
              "    <tr>\n",
              "      <th>3</th>\n",
              "      <td>2487200875</td>\n",
              "      <td>604000.0</td>\n",
              "      <td>4</td>\n",
              "      <td>3.00</td>\n",
              "      <td>1960</td>\n",
              "      <td>5000</td>\n",
              "      <td>1.0</td>\n",
              "      <td>0</td>\n",
              "      <td>0</td>\n",
              "      <td>5</td>\n",
              "      <td>7</td>\n",
              "      <td>1050</td>\n",
              "      <td>910</td>\n",
              "      <td>1965</td>\n",
              "      <td>0</td>\n",
              "      <td>98136</td>\n",
              "      <td>47.5208</td>\n",
              "      <td>-122.393</td>\n",
              "      <td>1360</td>\n",
              "      <td>5000</td>\n",
              "    </tr>\n",
              "    <tr>\n",
              "      <th>4</th>\n",
              "      <td>1954400510</td>\n",
              "      <td>510000.0</td>\n",
              "      <td>3</td>\n",
              "      <td>2.00</td>\n",
              "      <td>1680</td>\n",
              "      <td>8080</td>\n",
              "      <td>1.0</td>\n",
              "      <td>0</td>\n",
              "      <td>0</td>\n",
              "      <td>3</td>\n",
              "      <td>8</td>\n",
              "      <td>1680</td>\n",
              "      <td>0</td>\n",
              "      <td>1987</td>\n",
              "      <td>0</td>\n",
              "      <td>98074</td>\n",
              "      <td>47.6168</td>\n",
              "      <td>-122.045</td>\n",
              "      <td>1800</td>\n",
              "      <td>7503</td>\n",
              "    </tr>\n",
              "    <tr>\n",
              "      <th>...</th>\n",
              "      <td>...</td>\n",
              "      <td>...</td>\n",
              "      <td>...</td>\n",
              "      <td>...</td>\n",
              "      <td>...</td>\n",
              "      <td>...</td>\n",
              "      <td>...</td>\n",
              "      <td>...</td>\n",
              "      <td>...</td>\n",
              "      <td>...</td>\n",
              "      <td>...</td>\n",
              "      <td>...</td>\n",
              "      <td>...</td>\n",
              "      <td>...</td>\n",
              "      <td>...</td>\n",
              "      <td>...</td>\n",
              "      <td>...</td>\n",
              "      <td>...</td>\n",
              "      <td>...</td>\n",
              "      <td>...</td>\n",
              "    </tr>\n",
              "    <tr>\n",
              "      <th>21608</th>\n",
              "      <td>263000018</td>\n",
              "      <td>360000.0</td>\n",
              "      <td>3</td>\n",
              "      <td>2.50</td>\n",
              "      <td>1530</td>\n",
              "      <td>1131</td>\n",
              "      <td>3.0</td>\n",
              "      <td>0</td>\n",
              "      <td>0</td>\n",
              "      <td>3</td>\n",
              "      <td>8</td>\n",
              "      <td>1530</td>\n",
              "      <td>0</td>\n",
              "      <td>2009</td>\n",
              "      <td>0</td>\n",
              "      <td>98103</td>\n",
              "      <td>47.6993</td>\n",
              "      <td>-122.346</td>\n",
              "      <td>1530</td>\n",
              "      <td>1509</td>\n",
              "    </tr>\n",
              "    <tr>\n",
              "      <th>21609</th>\n",
              "      <td>6600060120</td>\n",
              "      <td>400000.0</td>\n",
              "      <td>4</td>\n",
              "      <td>2.50</td>\n",
              "      <td>2310</td>\n",
              "      <td>5813</td>\n",
              "      <td>2.0</td>\n",
              "      <td>0</td>\n",
              "      <td>0</td>\n",
              "      <td>3</td>\n",
              "      <td>8</td>\n",
              "      <td>2310</td>\n",
              "      <td>0</td>\n",
              "      <td>2014</td>\n",
              "      <td>0</td>\n",
              "      <td>98146</td>\n",
              "      <td>47.5107</td>\n",
              "      <td>-122.362</td>\n",
              "      <td>1830</td>\n",
              "      <td>7200</td>\n",
              "    </tr>\n",
              "    <tr>\n",
              "      <th>21610</th>\n",
              "      <td>1523300141</td>\n",
              "      <td>402101.0</td>\n",
              "      <td>2</td>\n",
              "      <td>0.75</td>\n",
              "      <td>1020</td>\n",
              "      <td>1350</td>\n",
              "      <td>2.0</td>\n",
              "      <td>0</td>\n",
              "      <td>0</td>\n",
              "      <td>3</td>\n",
              "      <td>7</td>\n",
              "      <td>1020</td>\n",
              "      <td>0</td>\n",
              "      <td>2009</td>\n",
              "      <td>0</td>\n",
              "      <td>98144</td>\n",
              "      <td>47.5944</td>\n",
              "      <td>-122.299</td>\n",
              "      <td>1020</td>\n",
              "      <td>2007</td>\n",
              "    </tr>\n",
              "    <tr>\n",
              "      <th>21611</th>\n",
              "      <td>291310100</td>\n",
              "      <td>400000.0</td>\n",
              "      <td>3</td>\n",
              "      <td>2.50</td>\n",
              "      <td>1600</td>\n",
              "      <td>2388</td>\n",
              "      <td>2.0</td>\n",
              "      <td>0</td>\n",
              "      <td>0</td>\n",
              "      <td>3</td>\n",
              "      <td>8</td>\n",
              "      <td>1600</td>\n",
              "      <td>0</td>\n",
              "      <td>2004</td>\n",
              "      <td>0</td>\n",
              "      <td>98027</td>\n",
              "      <td>47.5345</td>\n",
              "      <td>-122.069</td>\n",
              "      <td>1410</td>\n",
              "      <td>1287</td>\n",
              "    </tr>\n",
              "    <tr>\n",
              "      <th>21612</th>\n",
              "      <td>1523300157</td>\n",
              "      <td>325000.0</td>\n",
              "      <td>2</td>\n",
              "      <td>0.75</td>\n",
              "      <td>1020</td>\n",
              "      <td>1076</td>\n",
              "      <td>2.0</td>\n",
              "      <td>0</td>\n",
              "      <td>0</td>\n",
              "      <td>3</td>\n",
              "      <td>7</td>\n",
              "      <td>1020</td>\n",
              "      <td>0</td>\n",
              "      <td>2008</td>\n",
              "      <td>0</td>\n",
              "      <td>98144</td>\n",
              "      <td>47.5941</td>\n",
              "      <td>-122.299</td>\n",
              "      <td>1020</td>\n",
              "      <td>1357</td>\n",
              "    </tr>\n",
              "  </tbody>\n",
              "</table>\n",
              "<p>21613 rows × 20 columns</p>\n",
              "</div>"
            ],
            "text/plain": [
              "               id     price  bedrooms  ...     long  sqft_living15  sqft_lot15\n",
              "0      7129300520  221900.0         3  ... -122.257           1340        5650\n",
              "1      6414100192  538000.0         3  ... -122.319           1690        7639\n",
              "2      5631500400  180000.0         2  ... -122.233           2720        8062\n",
              "3      2487200875  604000.0         4  ... -122.393           1360        5000\n",
              "4      1954400510  510000.0         3  ... -122.045           1800        7503\n",
              "...           ...       ...       ...  ...      ...            ...         ...\n",
              "21608   263000018  360000.0         3  ... -122.346           1530        1509\n",
              "21609  6600060120  400000.0         4  ... -122.362           1830        7200\n",
              "21610  1523300141  402101.0         2  ... -122.299           1020        2007\n",
              "21611   291310100  400000.0         3  ... -122.069           1410        1287\n",
              "21612  1523300157  325000.0         2  ... -122.299           1020        1357\n",
              "\n",
              "[21613 rows x 20 columns]"
            ]
          },
          "metadata": {},
          "execution_count": 2
        }
      ]
    },
    {
      "cell_type": "markdown",
      "metadata": {
        "id": "6fYAybF8s13T"
      },
      "source": [
        "#Dataset glossary"
      ]
    },
    {
      "cell_type": "markdown",
      "metadata": {
        "id": "IQPe52dHsJcp"
      },
      "source": [
        "1.Id \n",
        "\n",
        "2.price  - Price of the house\n",
        "\n",
        "3.bedrooms - Number of Bedrooms\n",
        "\n",
        "4.bathrooms - Number of Bathrooms\n",
        "\n",
        "5.sqft_living - Square feet area of living area\n",
        "\n",
        "6.sqft_lot  - Square feet area of parking Layout\n",
        "\n",
        "7.floors - Number of Floors\n",
        "\n",
        "8.waterfront - Whether waterfront is there or not\n",
        "\n",
        "9.view - Number of Views\n",
        "\n",
        "10.grade - Grades\n",
        "\n",
        "11.sqft_above\n",
        "\n",
        "12.sqft_basement - Square feet area off basement\n",
        "\n",
        "13.yr_built - Year the house is built\n",
        "\n",
        "14.yr_renovated - Year the house is renovated\n",
        "\n",
        "15.zipcode - zipcode os the house\n",
        "\n",
        "16.lat : Latitude of the house\n",
        "\n",
        "17.lon : Longitude of the house\n",
        "\n",
        "18.sqft_living15\n",
        "\n",
        "19.sqft_lot15"
      ]
    },
    {
      "cell_type": "markdown",
      "metadata": {
        "id": "Y6IO18CMqyA5"
      },
      "source": [
        "#Accessing Information in the Dataset"
      ]
    },
    {
      "cell_type": "code",
      "metadata": {
        "colab": {
          "base_uri": "https://localhost:8080/"
        },
        "id": "G3buPkYYq3d1",
        "outputId": "922e363c-b921-401d-ff4e-01d3261e6d61"
      },
      "source": [
        "df.info()"
      ],
      "execution_count": 3,
      "outputs": [
        {
          "output_type": "stream",
          "name": "stdout",
          "text": [
            "<class 'pandas.core.frame.DataFrame'>\n",
            "RangeIndex: 21613 entries, 0 to 21612\n",
            "Data columns (total 20 columns):\n",
            " #   Column         Non-Null Count  Dtype  \n",
            "---  ------         --------------  -----  \n",
            " 0   id             21613 non-null  int64  \n",
            " 1   price          21613 non-null  float64\n",
            " 2   bedrooms       21613 non-null  int64  \n",
            " 3   bathrooms      21613 non-null  float64\n",
            " 4   sqft_living    21613 non-null  int64  \n",
            " 5   sqft_lot       21613 non-null  int64  \n",
            " 6   floors         21613 non-null  float64\n",
            " 7   waterfront     21613 non-null  int64  \n",
            " 8   view           21613 non-null  int64  \n",
            " 9   condition      21613 non-null  int64  \n",
            " 10  grade          21613 non-null  int64  \n",
            " 11  sqft_above     21613 non-null  int64  \n",
            " 12  sqft_basement  21613 non-null  int64  \n",
            " 13  yr_built       21613 non-null  int64  \n",
            " 14  yr_renovated   21613 non-null  int64  \n",
            " 15  zipcode        21613 non-null  int64  \n",
            " 16  lat            21613 non-null  float64\n",
            " 17  long           21613 non-null  float64\n",
            " 18  sqft_living15  21613 non-null  int64  \n",
            " 19  sqft_lot15     21613 non-null  int64  \n",
            "dtypes: float64(5), int64(15)\n",
            "memory usage: 3.3 MB\n"
          ]
        }
      ]
    },
    {
      "cell_type": "code",
      "metadata": {
        "colab": {
          "base_uri": "https://localhost:8080/"
        },
        "id": "ccczDuaOIQ_8",
        "outputId": "b48a16e7-e6c8-46aa-ac9d-e513e3991bb3"
      },
      "source": [
        "#Checking the number of rows and columns in our dataset\n",
        "df.shape"
      ],
      "execution_count": 4,
      "outputs": [
        {
          "output_type": "execute_result",
          "data": {
            "text/plain": [
              "(21613, 20)"
            ]
          },
          "metadata": {},
          "execution_count": 4
        }
      ]
    },
    {
      "cell_type": "code",
      "metadata": {
        "colab": {
          "base_uri": "https://localhost:8080/"
        },
        "id": "h9V3B6uTrr_y",
        "outputId": "89c1aaad-868c-4874-8307-4d02ae8273d9"
      },
      "source": [
        "#Checking for missing values\n",
        "df.isnull().sum()"
      ],
      "execution_count": 5,
      "outputs": [
        {
          "output_type": "execute_result",
          "data": {
            "text/plain": [
              "id               0\n",
              "price            0\n",
              "bedrooms         0\n",
              "bathrooms        0\n",
              "sqft_living      0\n",
              "sqft_lot         0\n",
              "floors           0\n",
              "waterfront       0\n",
              "view             0\n",
              "condition        0\n",
              "grade            0\n",
              "sqft_above       0\n",
              "sqft_basement    0\n",
              "yr_built         0\n",
              "yr_renovated     0\n",
              "zipcode          0\n",
              "lat              0\n",
              "long             0\n",
              "sqft_living15    0\n",
              "sqft_lot15       0\n",
              "dtype: int64"
            ]
          },
          "metadata": {},
          "execution_count": 5
        }
      ]
    },
    {
      "cell_type": "code",
      "metadata": {
        "colab": {
          "base_uri": "https://localhost:8080/"
        },
        "id": "Xhm38FS_rwje",
        "outputId": "58be8720-600a-4776-960c-ffed8cdb0024"
      },
      "source": [
        "#data types\n",
        "df.dtypes"
      ],
      "execution_count": 6,
      "outputs": [
        {
          "output_type": "execute_result",
          "data": {
            "text/plain": [
              "id                 int64\n",
              "price            float64\n",
              "bedrooms           int64\n",
              "bathrooms        float64\n",
              "sqft_living        int64\n",
              "sqft_lot           int64\n",
              "floors           float64\n",
              "waterfront         int64\n",
              "view               int64\n",
              "condition          int64\n",
              "grade              int64\n",
              "sqft_above         int64\n",
              "sqft_basement      int64\n",
              "yr_built           int64\n",
              "yr_renovated       int64\n",
              "zipcode            int64\n",
              "lat              float64\n",
              "long             float64\n",
              "sqft_living15      int64\n",
              "sqft_lot15         int64\n",
              "dtype: object"
            ]
          },
          "metadata": {},
          "execution_count": 6
        }
      ]
    },
    {
      "cell_type": "code",
      "metadata": {
        "colab": {
          "base_uri": "https://localhost:8080/"
        },
        "id": "0qH0bZElr0xS",
        "outputId": "d0d9c4f2-58a9-45f6-cbd5-53d23f9bb7f8"
      },
      "source": [
        "#Checking for duplicates\n",
        "df.duplicated().any()"
      ],
      "execution_count": 7,
      "outputs": [
        {
          "output_type": "execute_result",
          "data": {
            "text/plain": [
              "True"
            ]
          },
          "metadata": {},
          "execution_count": 7
        }
      ]
    },
    {
      "cell_type": "markdown",
      "metadata": {
        "id": "SYrgZXTJM1zV"
      },
      "source": [
        "we have duplicated values in our dataset and we are going to deal with them in the next step"
      ]
    },
    {
      "cell_type": "markdown",
      "metadata": {
        "id": "4Y_T5DCGvim1"
      },
      "source": [
        "#Data Cleaning"
      ]
    },
    {
      "cell_type": "code",
      "metadata": {
        "id": "jnezDPnAvmTg"
      },
      "source": [
        "#Dropping duplicated values\n",
        "df.drop_duplicates(inplace=True)"
      ],
      "execution_count": 8,
      "outputs": []
    },
    {
      "cell_type": "code",
      "metadata": {
        "colab": {
          "base_uri": "https://localhost:8080/"
        },
        "id": "uaIcgdbcwrvG",
        "outputId": "ebdd1a7c-63c9-4771-b66d-3bf9eca4c692"
      },
      "source": [
        "#confirming if we still have duplicated values\n",
        "df.duplicated().any()"
      ],
      "execution_count": 9,
      "outputs": [
        {
          "output_type": "execute_result",
          "data": {
            "text/plain": [
              "False"
            ]
          },
          "metadata": {},
          "execution_count": 9
        }
      ]
    },
    {
      "cell_type": "code",
      "metadata": {
        "id": "BSK4RgeLngRw"
      },
      "source": [
        "for i in df:\n",
        "  print(i, df[i].value_counts())"
      ],
      "execution_count": null,
      "outputs": []
    },
    {
      "cell_type": "code",
      "metadata": {
        "colab": {
          "base_uri": "https://localhost:8080/",
          "height": 317
        },
        "id": "Ak9Kv1x7KBcK",
        "outputId": "b0001f15-9005-48ed-b016-a18d4c5a2027"
      },
      "source": [
        "df.describe()"
      ],
      "execution_count": 10,
      "outputs": [
        {
          "output_type": "execute_result",
          "data": {
            "text/html": [
              "<div>\n",
              "<style scoped>\n",
              "    .dataframe tbody tr th:only-of-type {\n",
              "        vertical-align: middle;\n",
              "    }\n",
              "\n",
              "    .dataframe tbody tr th {\n",
              "        vertical-align: top;\n",
              "    }\n",
              "\n",
              "    .dataframe thead th {\n",
              "        text-align: right;\n",
              "    }\n",
              "</style>\n",
              "<table border=\"1\" class=\"dataframe\">\n",
              "  <thead>\n",
              "    <tr style=\"text-align: right;\">\n",
              "      <th></th>\n",
              "      <th>id</th>\n",
              "      <th>price</th>\n",
              "      <th>bedrooms</th>\n",
              "      <th>bathrooms</th>\n",
              "      <th>sqft_living</th>\n",
              "      <th>sqft_lot</th>\n",
              "      <th>floors</th>\n",
              "      <th>waterfront</th>\n",
              "      <th>view</th>\n",
              "      <th>condition</th>\n",
              "      <th>grade</th>\n",
              "      <th>sqft_above</th>\n",
              "      <th>sqft_basement</th>\n",
              "      <th>yr_built</th>\n",
              "      <th>yr_renovated</th>\n",
              "      <th>zipcode</th>\n",
              "      <th>lat</th>\n",
              "      <th>long</th>\n",
              "      <th>sqft_living15</th>\n",
              "      <th>sqft_lot15</th>\n",
              "    </tr>\n",
              "  </thead>\n",
              "  <tbody>\n",
              "    <tr>\n",
              "      <th>count</th>\n",
              "      <td>2.161000e+04</td>\n",
              "      <td>2.161000e+04</td>\n",
              "      <td>21610.000000</td>\n",
              "      <td>21610.000000</td>\n",
              "      <td>21610.000000</td>\n",
              "      <td>2.161000e+04</td>\n",
              "      <td>21610.000000</td>\n",
              "      <td>21610.000000</td>\n",
              "      <td>21610.000000</td>\n",
              "      <td>21610.000000</td>\n",
              "      <td>21610.000000</td>\n",
              "      <td>21610.000000</td>\n",
              "      <td>21610.000000</td>\n",
              "      <td>21610.000000</td>\n",
              "      <td>21610.000000</td>\n",
              "      <td>21610.000000</td>\n",
              "      <td>21610.000000</td>\n",
              "      <td>21610.000000</td>\n",
              "      <td>21610.000000</td>\n",
              "      <td>21610.000000</td>\n",
              "    </tr>\n",
              "    <tr>\n",
              "      <th>mean</th>\n",
              "      <td>4.580161e+09</td>\n",
              "      <td>5.401789e+05</td>\n",
              "      <td>3.370847</td>\n",
              "      <td>2.114739</td>\n",
              "      <td>2079.881212</td>\n",
              "      <td>1.510829e+04</td>\n",
              "      <td>1.494239</td>\n",
              "      <td>0.007543</td>\n",
              "      <td>0.234197</td>\n",
              "      <td>3.409440</td>\n",
              "      <td>7.656779</td>\n",
              "      <td>1788.347894</td>\n",
              "      <td>291.533318</td>\n",
              "      <td>1971.003609</td>\n",
              "      <td>84.322351</td>\n",
              "      <td>98077.945673</td>\n",
              "      <td>47.560049</td>\n",
              "      <td>-122.213910</td>\n",
              "      <td>1986.518695</td>\n",
              "      <td>12769.031976</td>\n",
              "    </tr>\n",
              "    <tr>\n",
              "      <th>std</th>\n",
              "      <td>2.876547e+09</td>\n",
              "      <td>3.673876e+05</td>\n",
              "      <td>0.930110</td>\n",
              "      <td>0.770204</td>\n",
              "      <td>918.500299</td>\n",
              "      <td>4.142323e+04</td>\n",
              "      <td>0.539994</td>\n",
              "      <td>0.086523</td>\n",
              "      <td>0.766136</td>\n",
              "      <td>0.650764</td>\n",
              "      <td>1.175500</td>\n",
              "      <td>828.138723</td>\n",
              "      <td>442.596699</td>\n",
              "      <td>29.372639</td>\n",
              "      <td>401.499264</td>\n",
              "      <td>53.505373</td>\n",
              "      <td>0.138572</td>\n",
              "      <td>0.140833</td>\n",
              "      <td>685.425781</td>\n",
              "      <td>27305.972464</td>\n",
              "    </tr>\n",
              "    <tr>\n",
              "      <th>min</th>\n",
              "      <td>1.000102e+06</td>\n",
              "      <td>7.500000e+04</td>\n",
              "      <td>0.000000</td>\n",
              "      <td>0.000000</td>\n",
              "      <td>290.000000</td>\n",
              "      <td>5.200000e+02</td>\n",
              "      <td>1.000000</td>\n",
              "      <td>0.000000</td>\n",
              "      <td>0.000000</td>\n",
              "      <td>1.000000</td>\n",
              "      <td>1.000000</td>\n",
              "      <td>290.000000</td>\n",
              "      <td>0.000000</td>\n",
              "      <td>1900.000000</td>\n",
              "      <td>0.000000</td>\n",
              "      <td>98001.000000</td>\n",
              "      <td>47.155900</td>\n",
              "      <td>-122.519000</td>\n",
              "      <td>399.000000</td>\n",
              "      <td>651.000000</td>\n",
              "    </tr>\n",
              "    <tr>\n",
              "      <th>25%</th>\n",
              "      <td>2.123049e+09</td>\n",
              "      <td>3.216125e+05</td>\n",
              "      <td>3.000000</td>\n",
              "      <td>1.750000</td>\n",
              "      <td>1425.500000</td>\n",
              "      <td>5.040000e+03</td>\n",
              "      <td>1.000000</td>\n",
              "      <td>0.000000</td>\n",
              "      <td>0.000000</td>\n",
              "      <td>3.000000</td>\n",
              "      <td>7.000000</td>\n",
              "      <td>1190.000000</td>\n",
              "      <td>0.000000</td>\n",
              "      <td>1951.000000</td>\n",
              "      <td>0.000000</td>\n",
              "      <td>98033.000000</td>\n",
              "      <td>47.470925</td>\n",
              "      <td>-122.328000</td>\n",
              "      <td>1490.000000</td>\n",
              "      <td>5100.000000</td>\n",
              "    </tr>\n",
              "    <tr>\n",
              "      <th>50%</th>\n",
              "      <td>3.904930e+09</td>\n",
              "      <td>4.500000e+05</td>\n",
              "      <td>3.000000</td>\n",
              "      <td>2.250000</td>\n",
              "      <td>1910.000000</td>\n",
              "      <td>7.619000e+03</td>\n",
              "      <td>1.500000</td>\n",
              "      <td>0.000000</td>\n",
              "      <td>0.000000</td>\n",
              "      <td>3.000000</td>\n",
              "      <td>7.000000</td>\n",
              "      <td>1560.000000</td>\n",
              "      <td>0.000000</td>\n",
              "      <td>1975.000000</td>\n",
              "      <td>0.000000</td>\n",
              "      <td>98065.000000</td>\n",
              "      <td>47.571800</td>\n",
              "      <td>-122.231000</td>\n",
              "      <td>1840.000000</td>\n",
              "      <td>7620.000000</td>\n",
              "    </tr>\n",
              "    <tr>\n",
              "      <th>75%</th>\n",
              "      <td>7.308900e+09</td>\n",
              "      <td>6.450000e+05</td>\n",
              "      <td>4.000000</td>\n",
              "      <td>2.500000</td>\n",
              "      <td>2550.000000</td>\n",
              "      <td>1.068875e+04</td>\n",
              "      <td>2.000000</td>\n",
              "      <td>0.000000</td>\n",
              "      <td>0.000000</td>\n",
              "      <td>4.000000</td>\n",
              "      <td>8.000000</td>\n",
              "      <td>2210.000000</td>\n",
              "      <td>560.000000</td>\n",
              "      <td>1997.000000</td>\n",
              "      <td>0.000000</td>\n",
              "      <td>98118.000000</td>\n",
              "      <td>47.678000</td>\n",
              "      <td>-122.125000</td>\n",
              "      <td>2360.000000</td>\n",
              "      <td>10083.000000</td>\n",
              "    </tr>\n",
              "    <tr>\n",
              "      <th>max</th>\n",
              "      <td>9.900000e+09</td>\n",
              "      <td>7.700000e+06</td>\n",
              "      <td>33.000000</td>\n",
              "      <td>8.000000</td>\n",
              "      <td>13540.000000</td>\n",
              "      <td>1.651359e+06</td>\n",
              "      <td>3.500000</td>\n",
              "      <td>1.000000</td>\n",
              "      <td>4.000000</td>\n",
              "      <td>5.000000</td>\n",
              "      <td>13.000000</td>\n",
              "      <td>9410.000000</td>\n",
              "      <td>4820.000000</td>\n",
              "      <td>2015.000000</td>\n",
              "      <td>2015.000000</td>\n",
              "      <td>98199.000000</td>\n",
              "      <td>47.777600</td>\n",
              "      <td>-121.315000</td>\n",
              "      <td>6210.000000</td>\n",
              "      <td>871200.000000</td>\n",
              "    </tr>\n",
              "  </tbody>\n",
              "</table>\n",
              "</div>"
            ],
            "text/plain": [
              "                 id         price  ...  sqft_living15     sqft_lot15\n",
              "count  2.161000e+04  2.161000e+04  ...   21610.000000   21610.000000\n",
              "mean   4.580161e+09  5.401789e+05  ...    1986.518695   12769.031976\n",
              "std    2.876547e+09  3.673876e+05  ...     685.425781   27305.972464\n",
              "min    1.000102e+06  7.500000e+04  ...     399.000000     651.000000\n",
              "25%    2.123049e+09  3.216125e+05  ...    1490.000000    5100.000000\n",
              "50%    3.904930e+09  4.500000e+05  ...    1840.000000    7620.000000\n",
              "75%    7.308900e+09  6.450000e+05  ...    2360.000000   10083.000000\n",
              "max    9.900000e+09  7.700000e+06  ...    6210.000000  871200.000000\n",
              "\n",
              "[8 rows x 20 columns]"
            ]
          },
          "metadata": {},
          "execution_count": 10
        }
      ]
    },
    {
      "cell_type": "markdown",
      "metadata": {
        "id": "krI8J8reIZ5t"
      },
      "source": [
        "#Univariate Analysis"
      ]
    },
    {
      "cell_type": "code",
      "metadata": {
        "id": "hjFdWXrUUq9S"
      },
      "source": [
        "import warnings\n",
        "warnings.filterwarnings(\"ignore\", category=FutureWarning)"
      ],
      "execution_count": 11,
      "outputs": []
    },
    {
      "cell_type": "code",
      "metadata": {
        "id": "r0zqhgV5Y7fK"
      },
      "source": [
        "#creating a subset of columns we are going to use\n",
        "df1 = df[['price','bathrooms','bedrooms','sqft_living','sqft_lot','floors','waterfront','view','condition','grade','sqft_above','sqft_basement','yr_built','yr_renovated','sqft_living15','sqft_lot15']]\n"
      ],
      "execution_count": 12,
      "outputs": []
    },
    {
      "cell_type": "code",
      "metadata": {
        "id": "gyyzsGembpDk"
      },
      "source": [
        "# Creating a user defined function for univariate visuals \n",
        "def uni_visuals(column, kind, title, xlabel, ylabel):\n",
        "  sns.set(font_scale=1.2)\n",
        "  plt.figure(figsize=(7,6))\n",
        "  if kind == 'pie':\n",
        "    plt.pie(x=df1[column].value_counts(), autopct='%1.1f%%', pctdistance=1.2)\n",
        "    plt.legend(df1[column].value_counts().index, bbox_to_anchor=(1.05, 1.0), loc='upper left')\n",
        "  elif kind == 'bar':\n",
        "    plt.bar(x=df1[column].value_counts().index, height=df1[column].value_counts())\n",
        "    plt.xticks(rotation='vertical')\n",
        "  plt.xlabel(xlabel, labelpad=14)\n",
        "  plt.ylabel(ylabel, labelpad=14)\n",
        "  plt.title(title, y=1.02)\n",
        "  return plt.show()"
      ],
      "execution_count": 13,
      "outputs": []
    },
    {
      "cell_type": "code",
      "metadata": {
        "id": "Er7FpSQKevW4"
      },
      "source": [
        "# Creating a user defined function to change values from numerical to categorical for better visualizations\n",
        "def categorize(df, column, replace, replace_with):\n",
        "  df[column].replace(to_replace=replace, value=replace_with, inplace=True)"
      ],
      "execution_count": 14,
      "outputs": []
    },
    {
      "cell_type": "code",
      "metadata": {
        "colab": {
          "base_uri": "https://localhost:8080/",
          "height": 486
        },
        "id": "M2YRtO3AcFb-",
        "outputId": "f8a11fc3-763b-433f-a252-dc55c306622e"
      },
      "source": [
        "# Changing values from numerical to categorical\n",
        "categorize(df1, 'waterfront', [0,1], ['no', 'yes'])\n",
        "# Pie chart showing the percentage of houses with waterfront and those without\n",
        "uni_visuals('waterfront', 'pie', 'Percentage of houses with waterfront and those without', '', '')"
      ],
      "execution_count": 15,
      "outputs": [
        {
          "output_type": "stream",
          "name": "stderr",
          "text": [
            "/usr/local/lib/python3.7/dist-packages/pandas/core/series.py:4582: SettingWithCopyWarning: \n",
            "A value is trying to be set on a copy of a slice from a DataFrame\n",
            "\n",
            "See the caveats in the documentation: https://pandas.pydata.org/pandas-docs/stable/user_guide/indexing.html#returning-a-view-versus-a-copy\n",
            "  method=method,\n"
          ]
        },
        {
          "output_type": "display_data",
          "data": {
            "image/png": "[encoded data removed]",
            "text/plain": [
              "<Figure size 504x432 with 1 Axes>"
            ]
          },
          "metadata": {}
        }
      ]
    },
    {
      "cell_type": "code",
      "metadata": {
        "colab": {
          "base_uri": "https://localhost:8080/",
          "height": 381
        },
        "id": "eH9rkz2NfglU",
        "outputId": "eba116b9-2c7f-42a7-b792-baa537028177"
      },
      "source": [
        "# Changing values from numerical to categorical\n",
        "# Pie chart showing the percentage of houses with waterfront and those without\n",
        "uni_visuals('view', 'pie', 'Percentage of houses with a view and those without', '', '')"
      ],
      "execution_count": 16,
      "outputs": [
        {
          "output_type": "display_data",
          "data": {
            "image/png": "[encoded data removed]",
            "text/plain": [
              "<Figure size 504x432 with 1 Axes>"
            ]
          },
          "metadata": {}
        }
      ]
    },
    {
      "cell_type": "code",
      "metadata": {
        "colab": {
          "base_uri": "https://localhost:8080/",
          "height": 435
        },
        "id": "-CJMbFlngb8m",
        "outputId": "cd92d1b1-bed9-4be5-be7d-e9c8af24cffe"
      },
      "source": [
        "# Bar chart showing count of bedrooms\n",
        "uni_visuals('bedrooms', 'bar', 'Count of bedrooms', 'bedrooms', 'Count')"
      ],
      "execution_count": 17,
      "outputs": [
        {
          "output_type": "display_data",
          "data": {
            "image/png": "[encoded data removed]",
            "text/plain": [
              "<Figure size 504x432 with 1 Axes>"
            ]
          },
          "metadata": {}
        }
      ]
    },
    {
      "cell_type": "code",
      "metadata": {
        "colab": {
          "base_uri": "https://localhost:8080/",
          "height": 427
        },
        "id": "2FAmnRLyhuaR",
        "outputId": "88cdff9e-ce3f-412e-8594-520fb18c6dbb"
      },
      "source": [
        "# Bar chart showing count of bathrooms\n",
        "uni_visuals('bathrooms', 'bar', 'Count of bathrooms', 'bathrooms', 'Count')"
      ],
      "execution_count": 18,
      "outputs": [
        {
          "output_type": "display_data",
          "data": {
            "image/png": "[encoded data removed]",
            "text/plain": [
              "<Figure size 504x432 with 1 Axes>"
            ]
          },
          "metadata": {}
        }
      ]
    },
    {
      "cell_type": "markdown",
      "metadata": {
        "id": "oHUiiDBBGEZN"
      },
      "source": [
        "*Most houses do not have a waterfront\n",
        "\n",
        "*Most houses are three bedroom house\n",
        "\n",
        "*Most houses have two bathrooms\n",
        "\n"
      ]
    },
    {
      "cell_type": "code",
      "metadata": {
        "colab": {
          "base_uri": "https://localhost:8080/",
          "height": 642
        },
        "id": "voJRMsKxId6T",
        "outputId": "6c1e44c4-f01e-4e2f-fedd-d0b040d7bff8"
      },
      "source": [
        "import warnings\n",
        "warnings.simplefilter(action='ignore', category=FutureWarning)\n",
        "sns.set(style='whitegrid', palette='muted', color_codes=True)\n",
        "fig, axes = plt.subplots(2,4, figsize=(15,10))\n",
        "sns.distplot(df['sqft_living'], kde=True, ax=axes[0,0])\n",
        "sns.distplot(df['sqft_lot'], kde=True, ax=axes[0,1])\n",
        "sns.distplot(df['sqft_above'], kde=True, ax=axes[0,2])\n",
        "sns.distplot(df['sqft_basement'], kde=True, ax=axes[0,3])\n",
        "sns.distplot(df['yr_built'], kde=True, ax=axes[1,0])\n",
        "sns.distplot(df['yr_renovated'], kde=True, ax=axes[1,0])\n",
        "sns.distplot(df['sqft_living15'], kde=True, ax=axes[1,2])\n",
        "sns.distplot(df['sqft_lot15'], kde=True, ax=axes[1,3])\n",
        "plt.tight_layout()"
      ],
      "execution_count": 19,
      "outputs": [
        {
          "output_type": "display_data",
          "data": {
            "image/png": "[encoded data removed]",
            "text/plain": [
              "<Figure size 1080x720 with 8 Axes>"
            ]
          },
          "metadata": {}
        }
      ]
    },
    {
      "cell_type": "markdown",
      "metadata": {
        "id": "UdgopNezOLfL"
      },
      "source": [
        "It is observable that some of the variables follow a normal distribution and some follow a skewed distribution"
      ]
    },
    {
      "cell_type": "code",
      "metadata": {
        "colab": {
          "base_uri": "https://localhost:8080/",
          "height": 224
        },
        "id": "3ZoqE11ldCCe",
        "outputId": "5f4d1fee-ca09-47ed-9bb4-d3d52a7bfb88"
      },
      "source": [
        "df1.head()"
      ],
      "execution_count": 20,
      "outputs": [
        {
          "output_type": "execute_result",
          "data": {
            "text/html": [
              "<div>\n",
              "<style scoped>\n",
              "    .dataframe tbody tr th:only-of-type {\n",
              "        vertical-align: middle;\n",
              "    }\n",
              "\n",
              "    .dataframe tbody tr th {\n",
              "        vertical-align: top;\n",
              "    }\n",
              "\n",
              "    .dataframe thead th {\n",
              "        text-align: right;\n",
              "    }\n",
              "</style>\n",
              "<table border=\"1\" class=\"dataframe\">\n",
              "  <thead>\n",
              "    <tr style=\"text-align: right;\">\n",
              "      <th></th>\n",
              "      <th>price</th>\n",
              "      <th>bathrooms</th>\n",
              "      <th>bedrooms</th>\n",
              "      <th>sqft_living</th>\n",
              "      <th>sqft_lot</th>\n",
              "      <th>floors</th>\n",
              "      <th>waterfront</th>\n",
              "      <th>view</th>\n",
              "      <th>condition</th>\n",
              "      <th>grade</th>\n",
              "      <th>sqft_above</th>\n",
              "      <th>sqft_basement</th>\n",
              "      <th>yr_built</th>\n",
              "      <th>yr_renovated</th>\n",
              "      <th>sqft_living15</th>\n",
              "      <th>sqft_lot15</th>\n",
              "    </tr>\n",
              "  </thead>\n",
              "  <tbody>\n",
              "    <tr>\n",
              "      <th>0</th>\n",
              "      <td>221900.0</td>\n",
              "      <td>1.00</td>\n",
              "      <td>3</td>\n",
              "      <td>1180</td>\n",
              "      <td>5650</td>\n",
              "      <td>1.0</td>\n",
              "      <td>no</td>\n",
              "      <td>0</td>\n",
              "      <td>3</td>\n",
              "      <td>7</td>\n",
              "      <td>1180</td>\n",
              "      <td>0</td>\n",
              "      <td>1955</td>\n",
              "      <td>0</td>\n",
              "      <td>1340</td>\n",
              "      <td>5650</td>\n",
              "    </tr>\n",
              "    <tr>\n",
              "      <th>1</th>\n",
              "      <td>538000.0</td>\n",
              "      <td>2.25</td>\n",
              "      <td>3</td>\n",
              "      <td>2570</td>\n",
              "      <td>7242</td>\n",
              "      <td>2.0</td>\n",
              "      <td>no</td>\n",
              "      <td>0</td>\n",
              "      <td>3</td>\n",
              "      <td>7</td>\n",
              "      <td>2170</td>\n",
              "      <td>400</td>\n",
              "      <td>1951</td>\n",
              "      <td>1991</td>\n",
              "      <td>1690</td>\n",
              "      <td>7639</td>\n",
              "    </tr>\n",
              "    <tr>\n",
              "      <th>2</th>\n",
              "      <td>180000.0</td>\n",
              "      <td>1.00</td>\n",
              "      <td>2</td>\n",
              "      <td>770</td>\n",
              "      <td>10000</td>\n",
              "      <td>1.0</td>\n",
              "      <td>no</td>\n",
              "      <td>0</td>\n",
              "      <td>3</td>\n",
              "      <td>6</td>\n",
              "      <td>770</td>\n",
              "      <td>0</td>\n",
              "      <td>1933</td>\n",
              "      <td>0</td>\n",
              "      <td>2720</td>\n",
              "      <td>8062</td>\n",
              "    </tr>\n",
              "    <tr>\n",
              "      <th>3</th>\n",
              "      <td>604000.0</td>\n",
              "      <td>3.00</td>\n",
              "      <td>4</td>\n",
              "      <td>1960</td>\n",
              "      <td>5000</td>\n",
              "      <td>1.0</td>\n",
              "      <td>no</td>\n",
              "      <td>0</td>\n",
              "      <td>5</td>\n",
              "      <td>7</td>\n",
              "      <td>1050</td>\n",
              "      <td>910</td>\n",
              "      <td>1965</td>\n",
              "      <td>0</td>\n",
              "      <td>1360</td>\n",
              "      <td>5000</td>\n",
              "    </tr>\n",
              "    <tr>\n",
              "      <th>4</th>\n",
              "      <td>510000.0</td>\n",
              "      <td>2.00</td>\n",
              "      <td>3</td>\n",
              "      <td>1680</td>\n",
              "      <td>8080</td>\n",
              "      <td>1.0</td>\n",
              "      <td>no</td>\n",
              "      <td>0</td>\n",
              "      <td>3</td>\n",
              "      <td>8</td>\n",
              "      <td>1680</td>\n",
              "      <td>0</td>\n",
              "      <td>1987</td>\n",
              "      <td>0</td>\n",
              "      <td>1800</td>\n",
              "      <td>7503</td>\n",
              "    </tr>\n",
              "  </tbody>\n",
              "</table>\n",
              "</div>"
            ],
            "text/plain": [
              "      price  bathrooms  bedrooms  ...  yr_renovated  sqft_living15  sqft_lot15\n",
              "0  221900.0       1.00         3  ...             0           1340        5650\n",
              "1  538000.0       2.25         3  ...          1991           1690        7639\n",
              "2  180000.0       1.00         2  ...             0           2720        8062\n",
              "3  604000.0       3.00         4  ...             0           1360        5000\n",
              "4  510000.0       2.00         3  ...             0           1800        7503\n",
              "\n",
              "[5 rows x 16 columns]"
            ]
          },
          "metadata": {},
          "execution_count": 20
        }
      ]
    },
    {
      "cell_type": "markdown",
      "metadata": {
        "id": "oFuY-OVRU5ot"
      },
      "source": [
        "#Bivariate Analysis"
      ]
    },
    {
      "cell_type": "markdown",
      "metadata": {
        "id": "M7MR6Jt4oIcL"
      },
      "source": [
        "correlation"
      ]
    },
    {
      "cell_type": "code",
      "metadata": {
        "colab": {
          "base_uri": "https://localhost:8080/",
          "height": 534
        },
        "id": "9ytfrpgdOYik",
        "outputId": "ab0dd95e-8adb-4fac-af83-9d62b9b5e5e2"
      },
      "source": [
        "df1.corr()"
      ],
      "execution_count": 24,
      "outputs": [
        {
          "output_type": "execute_result",
          "data": {
            "text/html": [
              "<div>\n",
              "<style scoped>\n",
              "    .dataframe tbody tr th:only-of-type {\n",
              "        vertical-align: middle;\n",
              "    }\n",
              "\n",
              "    .dataframe tbody tr th {\n",
              "        vertical-align: top;\n",
              "    }\n",
              "\n",
              "    .dataframe thead th {\n",
              "        text-align: right;\n",
              "    }\n",
              "</style>\n",
              "<table border=\"1\" class=\"dataframe\">\n",
              "  <thead>\n",
              "    <tr style=\"text-align: right;\">\n",
              "      <th></th>\n",
              "      <th>price</th>\n",
              "      <th>bathrooms</th>\n",
              "      <th>bedrooms</th>\n",
              "      <th>sqft_living</th>\n",
              "      <th>sqft_lot</th>\n",
              "      <th>floors</th>\n",
              "      <th>view</th>\n",
              "      <th>condition</th>\n",
              "      <th>grade</th>\n",
              "      <th>sqft_above</th>\n",
              "      <th>sqft_basement</th>\n",
              "      <th>yr_built</th>\n",
              "      <th>yr_renovated</th>\n",
              "      <th>sqft_living15</th>\n",
              "      <th>sqft_lot15</th>\n",
              "    </tr>\n",
              "  </thead>\n",
              "  <tbody>\n",
              "    <tr>\n",
              "      <th>price</th>\n",
              "      <td>1.000000</td>\n",
              "      <td>0.525140</td>\n",
              "      <td>0.308346</td>\n",
              "      <td>0.702046</td>\n",
              "      <td>0.089658</td>\n",
              "      <td>0.256793</td>\n",
              "      <td>0.397466</td>\n",
              "      <td>0.036397</td>\n",
              "      <td>0.667478</td>\n",
              "      <td>0.605569</td>\n",
              "      <td>0.323849</td>\n",
              "      <td>0.053980</td>\n",
              "      <td>0.126503</td>\n",
              "      <td>0.585382</td>\n",
              "      <td>0.082457</td>\n",
              "    </tr>\n",
              "    <tr>\n",
              "      <th>bathrooms</th>\n",
              "      <td>0.525140</td>\n",
              "      <td>1.000000</td>\n",
              "      <td>0.515935</td>\n",
              "      <td>0.754688</td>\n",
              "      <td>0.087750</td>\n",
              "      <td>0.500669</td>\n",
              "      <td>0.187891</td>\n",
              "      <td>-0.124940</td>\n",
              "      <td>0.664990</td>\n",
              "      <td>0.685351</td>\n",
              "      <td>0.283814</td>\n",
              "      <td>0.505997</td>\n",
              "      <td>0.050879</td>\n",
              "      <td>0.568665</td>\n",
              "      <td>0.087191</td>\n",
              "    </tr>\n",
              "    <tr>\n",
              "      <th>bedrooms</th>\n",
              "      <td>0.308346</td>\n",
              "      <td>0.515935</td>\n",
              "      <td>1.000000</td>\n",
              "      <td>0.576674</td>\n",
              "      <td>0.031699</td>\n",
              "      <td>0.175448</td>\n",
              "      <td>0.079433</td>\n",
              "      <td>0.028422</td>\n",
              "      <td>0.357003</td>\n",
              "      <td>0.477619</td>\n",
              "      <td>0.303077</td>\n",
              "      <td>0.154276</td>\n",
              "      <td>0.018695</td>\n",
              "      <td>0.391633</td>\n",
              "      <td>0.029233</td>\n",
              "    </tr>\n",
              "    <tr>\n",
              "      <th>sqft_living</th>\n",
              "      <td>0.702046</td>\n",
              "      <td>0.754688</td>\n",
              "      <td>0.576674</td>\n",
              "      <td>1.000000</td>\n",
              "      <td>0.172830</td>\n",
              "      <td>0.353954</td>\n",
              "      <td>0.284641</td>\n",
              "      <td>-0.058768</td>\n",
              "      <td>0.762719</td>\n",
              "      <td>0.876600</td>\n",
              "      <td>0.435054</td>\n",
              "      <td>0.318099</td>\n",
              "      <td>0.055314</td>\n",
              "      <td>0.756420</td>\n",
              "      <td>0.183285</td>\n",
              "    </tr>\n",
              "    <tr>\n",
              "      <th>sqft_lot</th>\n",
              "      <td>0.089658</td>\n",
              "      <td>0.087750</td>\n",
              "      <td>0.031699</td>\n",
              "      <td>0.172830</td>\n",
              "      <td>1.000000</td>\n",
              "      <td>-0.005171</td>\n",
              "      <td>0.074753</td>\n",
              "      <td>-0.008967</td>\n",
              "      <td>0.113644</td>\n",
              "      <td>0.183527</td>\n",
              "      <td>0.015271</td>\n",
              "      <td>0.053105</td>\n",
              "      <td>0.007677</td>\n",
              "      <td>0.144620</td>\n",
              "      <td>0.718556</td>\n",
              "    </tr>\n",
              "    <tr>\n",
              "      <th>floors</th>\n",
              "      <td>0.256793</td>\n",
              "      <td>0.500669</td>\n",
              "      <td>0.175448</td>\n",
              "      <td>0.353954</td>\n",
              "      <td>-0.005171</td>\n",
              "      <td>1.000000</td>\n",
              "      <td>0.029325</td>\n",
              "      <td>-0.263779</td>\n",
              "      <td>0.458151</td>\n",
              "      <td>0.523874</td>\n",
              "      <td>-0.245673</td>\n",
              "      <td>0.489347</td>\n",
              "      <td>0.006156</td>\n",
              "      <td>0.279861</td>\n",
              "      <td>-0.011250</td>\n",
              "    </tr>\n",
              "    <tr>\n",
              "      <th>view</th>\n",
              "      <td>0.397466</td>\n",
              "      <td>0.187891</td>\n",
              "      <td>0.079433</td>\n",
              "      <td>0.284641</td>\n",
              "      <td>0.074753</td>\n",
              "      <td>0.029325</td>\n",
              "      <td>1.000000</td>\n",
              "      <td>0.045836</td>\n",
              "      <td>0.251378</td>\n",
              "      <td>0.167659</td>\n",
              "      <td>0.276996</td>\n",
              "      <td>-0.053229</td>\n",
              "      <td>0.103208</td>\n",
              "      <td>0.280404</td>\n",
              "      <td>0.072577</td>\n",
              "    </tr>\n",
              "    <tr>\n",
              "      <th>condition</th>\n",
              "      <td>0.036397</td>\n",
              "      <td>-0.124940</td>\n",
              "      <td>0.028422</td>\n",
              "      <td>-0.058768</td>\n",
              "      <td>-0.008967</td>\n",
              "      <td>-0.263779</td>\n",
              "      <td>0.045836</td>\n",
              "      <td>1.000000</td>\n",
              "      <td>-0.144655</td>\n",
              "      <td>-0.158212</td>\n",
              "      <td>0.174071</td>\n",
              "      <td>-0.361347</td>\n",
              "      <td>-0.060862</td>\n",
              "      <td>-0.092854</td>\n",
              "      <td>-0.003424</td>\n",
              "    </tr>\n",
              "    <tr>\n",
              "      <th>grade</th>\n",
              "      <td>0.667478</td>\n",
              "      <td>0.664990</td>\n",
              "      <td>0.357003</td>\n",
              "      <td>0.762719</td>\n",
              "      <td>0.113644</td>\n",
              "      <td>0.458151</td>\n",
              "      <td>0.251378</td>\n",
              "      <td>-0.144655</td>\n",
              "      <td>1.000000</td>\n",
              "      <td>0.755919</td>\n",
              "      <td>0.168443</td>\n",
              "      <td>0.446966</td>\n",
              "      <td>0.014372</td>\n",
              "      <td>0.713208</td>\n",
              "      <td>0.119265</td>\n",
              "    </tr>\n",
              "    <tr>\n",
              "      <th>sqft_above</th>\n",
              "      <td>0.605569</td>\n",
              "      <td>0.685351</td>\n",
              "      <td>0.477619</td>\n",
              "      <td>0.876600</td>\n",
              "      <td>0.183527</td>\n",
              "      <td>0.523874</td>\n",
              "      <td>0.167659</td>\n",
              "      <td>-0.158212</td>\n",
              "      <td>0.755919</td>\n",
              "      <td>1.000000</td>\n",
              "      <td>-0.051923</td>\n",
              "      <td>0.423922</td>\n",
              "      <td>0.023233</td>\n",
              "      <td>0.731870</td>\n",
              "      <td>0.194060</td>\n",
              "    </tr>\n",
              "    <tr>\n",
              "      <th>sqft_basement</th>\n",
              "      <td>0.323849</td>\n",
              "      <td>0.283814</td>\n",
              "      <td>0.303077</td>\n",
              "      <td>0.435054</td>\n",
              "      <td>0.015271</td>\n",
              "      <td>-0.245673</td>\n",
              "      <td>0.276996</td>\n",
              "      <td>0.174071</td>\n",
              "      <td>0.168443</td>\n",
              "      <td>-0.051923</td>\n",
              "      <td>1.000000</td>\n",
              "      <td>-0.133062</td>\n",
              "      <td>0.071320</td>\n",
              "      <td>0.200367</td>\n",
              "      <td>0.017260</td>\n",
              "    </tr>\n",
              "    <tr>\n",
              "      <th>yr_built</th>\n",
              "      <td>0.053980</td>\n",
              "      <td>0.505997</td>\n",
              "      <td>0.154276</td>\n",
              "      <td>0.318099</td>\n",
              "      <td>0.053105</td>\n",
              "      <td>0.489347</td>\n",
              "      <td>-0.053229</td>\n",
              "      <td>-0.361347</td>\n",
              "      <td>0.446966</td>\n",
              "      <td>0.423922</td>\n",
              "      <td>-0.133062</td>\n",
              "      <td>1.000000</td>\n",
              "      <td>-0.224729</td>\n",
              "      <td>0.326298</td>\n",
              "      <td>0.070999</td>\n",
              "    </tr>\n",
              "    <tr>\n",
              "      <th>yr_renovated</th>\n",
              "      <td>0.126503</td>\n",
              "      <td>0.050879</td>\n",
              "      <td>0.018695</td>\n",
              "      <td>0.055314</td>\n",
              "      <td>0.007677</td>\n",
              "      <td>0.006156</td>\n",
              "      <td>0.103208</td>\n",
              "      <td>-0.060862</td>\n",
              "      <td>0.014372</td>\n",
              "      <td>0.023233</td>\n",
              "      <td>0.071320</td>\n",
              "      <td>-0.224729</td>\n",
              "      <td>1.000000</td>\n",
              "      <td>-0.002841</td>\n",
              "      <td>0.007837</td>\n",
              "    </tr>\n",
              "    <tr>\n",
              "      <th>sqft_living15</th>\n",
              "      <td>0.585382</td>\n",
              "      <td>0.568665</td>\n",
              "      <td>0.391633</td>\n",
              "      <td>0.756420</td>\n",
              "      <td>0.144620</td>\n",
              "      <td>0.279861</td>\n",
              "      <td>0.280404</td>\n",
              "      <td>-0.092854</td>\n",
              "      <td>0.713208</td>\n",
              "      <td>0.731870</td>\n",
              "      <td>0.200367</td>\n",
              "      <td>0.326298</td>\n",
              "      <td>-0.002841</td>\n",
              "      <td>1.000000</td>\n",
              "      <td>0.183194</td>\n",
              "    </tr>\n",
              "    <tr>\n",
              "      <th>sqft_lot15</th>\n",
              "      <td>0.082457</td>\n",
              "      <td>0.087191</td>\n",
              "      <td>0.029233</td>\n",
              "      <td>0.183285</td>\n",
              "      <td>0.718556</td>\n",
              "      <td>-0.011250</td>\n",
              "      <td>0.072577</td>\n",
              "      <td>-0.003424</td>\n",
              "      <td>0.119265</td>\n",
              "      <td>0.194060</td>\n",
              "      <td>0.017260</td>\n",
              "      <td>0.070999</td>\n",
              "      <td>0.007837</td>\n",
              "      <td>0.183194</td>\n",
              "      <td>1.000000</td>\n",
              "    </tr>\n",
              "  </tbody>\n",
              "</table>\n",
              "</div>"
            ],
            "text/plain": [
              "                  price  bathrooms  ...  sqft_living15  sqft_lot15\n",
              "price          1.000000   0.525140  ...       0.585382    0.082457\n",
              "bathrooms      0.525140   1.000000  ...       0.568665    0.087191\n",
              "bedrooms       0.308346   0.515935  ...       0.391633    0.029233\n",
              "sqft_living    0.702046   0.754688  ...       0.756420    0.183285\n",
              "sqft_lot       0.089658   0.087750  ...       0.144620    0.718556\n",
              "floors         0.256793   0.500669  ...       0.279861   -0.011250\n",
              "view           0.397466   0.187891  ...       0.280404    0.072577\n",
              "condition      0.036397  -0.124940  ...      -0.092854   -0.003424\n",
              "grade          0.667478   0.664990  ...       0.713208    0.119265\n",
              "sqft_above     0.605569   0.685351  ...       0.731870    0.194060\n",
              "sqft_basement  0.323849   0.283814  ...       0.200367    0.017260\n",
              "yr_built       0.053980   0.505997  ...       0.326298    0.070999\n",
              "yr_renovated   0.126503   0.050879  ...      -0.002841    0.007837\n",
              "sqft_living15  0.585382   0.568665  ...       1.000000    0.183194\n",
              "sqft_lot15     0.082457   0.087191  ...       0.183194    1.000000\n",
              "\n",
              "[15 rows x 15 columns]"
            ]
          },
          "metadata": {},
          "execution_count": 24
        }
      ]
    },
    {
      "cell_type": "code",
      "metadata": {
        "colab": {
          "base_uri": "https://localhost:8080/",
          "height": 313
        },
        "id": "EvYMrPrGqmtX",
        "outputId": "8009162c-bf1c-49d9-fe14-c1608012746c"
      },
      "source": [
        "sns.lineplot(data=df1, x=df1['yr_built'], y=df1['price'])"
      ],
      "execution_count": 24,
      "outputs": [
        {
          "output_type": "execute_result",
          "data": {
            "text/plain": [
              "<matplotlib.axes._subplots.AxesSubplot at 0x7f1a3a453090>"
            ]
          },
          "metadata": {},
          "execution_count": 24
        },
        {
          "output_type": "display_data",
          "data": {
            "image/png": "[encoded data removed]",
            "text/plain": [
              "<Figure size 432x288 with 1 Axes>"
            ]
          },
          "metadata": {}
        }
      ]
    },
    {
      "cell_type": "code",
      "metadata": {
        "colab": {
          "base_uri": "https://localhost:8080/",
          "height": 313
        },
        "id": "UR_B3TT2SUsz",
        "outputId": "cad59840-cd76-4ddd-f7a9-7793d2cab9a6"
      },
      "source": [
        "sns.lineplot(data=df1, x=df1['yr_renovated'], y=df1['price'])"
      ],
      "execution_count": 36,
      "outputs": [
        {
          "output_type": "execute_result",
          "data": {
            "text/plain": [
              "<matplotlib.axes._subplots.AxesSubplot at 0x7f5e7f9fe590>"
            ]
          },
          "metadata": {},
          "execution_count": 36
        },
        {
          "output_type": "display_data",
          "data": {
            "image/png": "[encoded data removed]",
            "text/plain": [
              "<Figure size 432x288 with 1 Axes>"
            ]
          },
          "metadata": {}
        }
      ]
    },
    {
      "cell_type": "code",
      "metadata": {
        "colab": {
          "base_uri": "https://localhost:8080/",
          "height": 387
        },
        "id": "GxhLT3UPHpYm",
        "outputId": "099c0890-2af1-4ec7-ce92-d33b7055d8d6"
      },
      "source": [
        "g = sns.catplot(x = 'bedrooms', y = 'price', data = df1, kind='bar', palette='rocket')\n",
        "g.despine(left=True)\n",
        "g.set_xlabels('House price per number of bedrooms')\n",
        "g.set_ylabels('Number of bedrooms')\n",
        "plt.title('Price of houses per number of bedrooms')"
      ],
      "execution_count": 26,
      "outputs": [
        {
          "output_type": "execute_result",
          "data": {
            "text/plain": [
              "Text(0.5, 1.0, 'Price of houses per number of bedrooms')"
            ]
          },
          "metadata": {},
          "execution_count": 26
        },
        {
          "output_type": "display_data",
          "data": {
            "image/png": "[encoded data removed]",
            "text/plain": [
              "<Figure size 360x360 with 1 Axes>"
            ]
          },
          "metadata": {}
        }
      ]
    },
    {
      "cell_type": "code",
      "metadata": {
        "colab": {
          "base_uri": "https://localhost:8080/",
          "height": 387
        },
        "id": "T2A-b40hLfno",
        "outputId": "22a2bcab-3ac8-4516-dc06-41f8f6e9e06a"
      },
      "source": [
        "g = sns.catplot(x = 'waterfront', y = 'price', data = df1, kind='bar', palette='rocket')\n",
        "g.despine(left=True)\n",
        "g.set_xlabels('House price per number of bathrooms')\n",
        "g.set_ylabels('Number of bathrooms')\n",
        "plt.title('Price of houses per number of bathrooms')"
      ],
      "execution_count": 28,
      "outputs": [
        {
          "output_type": "execute_result",
          "data": {
            "text/plain": [
              "Text(0.5, 1.0, 'Price of houses per number of bathrooms')"
            ]
          },
          "metadata": {},
          "execution_count": 28
        },
        {
          "output_type": "display_data",
          "data": {
            "image/png": "[encoded data removed]",
            "text/plain": [
              "<Figure size 360x360 with 1 Axes>"
            ]
          },
          "metadata": {}
        }
      ]
    },
    {
      "cell_type": "code",
      "metadata": {
        "id": "-SCBWqBANmtL"
      },
      "source": [
        "df1_sample = df.sample(n=20)"
      ],
      "execution_count": 30,
      "outputs": []
    },
    {
      "cell_type": "code",
      "metadata": {
        "colab": {
          "base_uri": "https://localhost:8080/",
          "height": 928
        },
        "id": "OJc4wtX9OAk7",
        "outputId": "73ddc636-ee0c-4e7d-c149-d0b48303e0e7"
      },
      "source": [
        "plt.figure(figsize=(16,10))\n",
        "sns.set(style='whitegrid', palette='muted', color_codes=True)\n",
        "sns.pairplot(hue='price', data=df1_sample[['price', 'bedrooms', 'sqft_living', 'sqft_lot', 'sqft_above',\t'sqft_basement']])"
      ],
      "execution_count": 35,
      "outputs": [
        {
          "output_type": "execute_result",
          "data": {
            "text/plain": [
              "<seaborn.axisgrid.PairGrid at 0x7f5e80554a90>"
            ]
          },
          "metadata": {},
          "execution_count": 35
        },
        {
          "output_type": "display_data",
          "data": {
            "text/plain": [
              "<Figure size 1152x720 with 0 Axes>"
            ]
          },
          "metadata": {}
        },
        {
          "output_type": "display_data",
          "data": {
            "image/png": "[encoded data removed]",
            "text/plain": [
              "<Figure size 956.975x900 with 30 Axes>"
            ]
          },
          "metadata": {}
        }
      ]
    },
    {
      "cell_type": "markdown",
      "metadata": {
        "id": "-ApJH2uACJED"
      },
      "source": [
        "#Exploratory Data Analysis"
      ]
    },
    {
      "cell_type": "code",
      "metadata": {
        "id": "qx8lHEq1COSo"
      },
      "source": [
        "#Creating a dataframe with variables to be used in building the model"
      ],
      "execution_count": 37,
      "outputs": []
    },
    {
      "cell_type": "code",
      "metadata": {
        "colab": {
          "base_uri": "https://localhost:8080/",
          "height": 224
        },
        "id": "8c50b_mo2zqk",
        "outputId": "dc998bf5-e6ea-4905-b6a0-1b07a2907625"
      },
      "source": [
        "Housing = df[['price','bathrooms','bedrooms','sqft_living','sqft_lot','floors','waterfront','view','condition','grade','sqft_above','sqft_basement','yr_built','yr_renovated','sqft_living15','sqft_lot15']]\n",
        "Housing.head()"
      ],
      "execution_count": 38,
      "outputs": [
        {
          "output_type": "execute_result",
          "data": {
            "text/html": [
              "<div>\n",
              "<style scoped>\n",
              "    .dataframe tbody tr th:only-of-type {\n",
              "        vertical-align: middle;\n",
              "    }\n",
              "\n",
              "    .dataframe tbody tr th {\n",
              "        vertical-align: top;\n",
              "    }\n",
              "\n",
              "    .dataframe thead th {\n",
              "        text-align: right;\n",
              "    }\n",
              "</style>\n",
              "<table border=\"1\" class=\"dataframe\">\n",
              "  <thead>\n",
              "    <tr style=\"text-align: right;\">\n",
              "      <th></th>\n",
              "      <th>price</th>\n",
              "      <th>bathrooms</th>\n",
              "      <th>bedrooms</th>\n",
              "      <th>sqft_living</th>\n",
              "      <th>sqft_lot</th>\n",
              "      <th>floors</th>\n",
              "      <th>waterfront</th>\n",
              "      <th>view</th>\n",
              "      <th>condition</th>\n",
              "      <th>grade</th>\n",
              "      <th>sqft_above</th>\n",
              "      <th>sqft_basement</th>\n",
              "      <th>yr_built</th>\n",
              "      <th>yr_renovated</th>\n",
              "      <th>sqft_living15</th>\n",
              "      <th>sqft_lot15</th>\n",
              "    </tr>\n",
              "  </thead>\n",
              "  <tbody>\n",
              "    <tr>\n",
              "      <th>0</th>\n",
              "      <td>221900.0</td>\n",
              "      <td>1.00</td>\n",
              "      <td>3</td>\n",
              "      <td>1180</td>\n",
              "      <td>5650</td>\n",
              "      <td>1.0</td>\n",
              "      <td>0</td>\n",
              "      <td>0</td>\n",
              "      <td>3</td>\n",
              "      <td>7</td>\n",
              "      <td>1180</td>\n",
              "      <td>0</td>\n",
              "      <td>1955</td>\n",
              "      <td>0</td>\n",
              "      <td>1340</td>\n",
              "      <td>5650</td>\n",
              "    </tr>\n",
              "    <tr>\n",
              "      <th>1</th>\n",
              "      <td>538000.0</td>\n",
              "      <td>2.25</td>\n",
              "      <td>3</td>\n",
              "      <td>2570</td>\n",
              "      <td>7242</td>\n",
              "      <td>2.0</td>\n",
              "      <td>0</td>\n",
              "      <td>0</td>\n",
              "      <td>3</td>\n",
              "      <td>7</td>\n",
              "      <td>2170</td>\n",
              "      <td>400</td>\n",
              "      <td>1951</td>\n",
              "      <td>1991</td>\n",
              "      <td>1690</td>\n",
              "      <td>7639</td>\n",
              "    </tr>\n",
              "    <tr>\n",
              "      <th>2</th>\n",
              "      <td>180000.0</td>\n",
              "      <td>1.00</td>\n",
              "      <td>2</td>\n",
              "      <td>770</td>\n",
              "      <td>10000</td>\n",
              "      <td>1.0</td>\n",
              "      <td>0</td>\n",
              "      <td>0</td>\n",
              "      <td>3</td>\n",
              "      <td>6</td>\n",
              "      <td>770</td>\n",
              "      <td>0</td>\n",
              "      <td>1933</td>\n",
              "      <td>0</td>\n",
              "      <td>2720</td>\n",
              "      <td>8062</td>\n",
              "    </tr>\n",
              "    <tr>\n",
              "      <th>3</th>\n",
              "      <td>604000.0</td>\n",
              "      <td>3.00</td>\n",
              "      <td>4</td>\n",
              "      <td>1960</td>\n",
              "      <td>5000</td>\n",
              "      <td>1.0</td>\n",
              "      <td>0</td>\n",
              "      <td>0</td>\n",
              "      <td>5</td>\n",
              "      <td>7</td>\n",
              "      <td>1050</td>\n",
              "      <td>910</td>\n",
              "      <td>1965</td>\n",
              "      <td>0</td>\n",
              "      <td>1360</td>\n",
              "      <td>5000</td>\n",
              "    </tr>\n",
              "    <tr>\n",
              "      <th>4</th>\n",
              "      <td>510000.0</td>\n",
              "      <td>2.00</td>\n",
              "      <td>3</td>\n",
              "      <td>1680</td>\n",
              "      <td>8080</td>\n",
              "      <td>1.0</td>\n",
              "      <td>0</td>\n",
              "      <td>0</td>\n",
              "      <td>3</td>\n",
              "      <td>8</td>\n",
              "      <td>1680</td>\n",
              "      <td>0</td>\n",
              "      <td>1987</td>\n",
              "      <td>0</td>\n",
              "      <td>1800</td>\n",
              "      <td>7503</td>\n",
              "    </tr>\n",
              "  </tbody>\n",
              "</table>\n",
              "</div>"
            ],
            "text/plain": [
              "      price  bathrooms  bedrooms  ...  yr_renovated  sqft_living15  sqft_lot15\n",
              "0  221900.0       1.00         3  ...             0           1340        5650\n",
              "1  538000.0       2.25         3  ...          1991           1690        7639\n",
              "2  180000.0       1.00         2  ...             0           2720        8062\n",
              "3  604000.0       3.00         4  ...             0           1360        5000\n",
              "4  510000.0       2.00         3  ...             0           1800        7503\n",
              "\n",
              "[5 rows x 16 columns]"
            ]
          },
          "metadata": {},
          "execution_count": 38
        }
      ]
    },
    {
      "cell_type": "markdown",
      "metadata": {
        "id": "6MpLFeSozq-5"
      },
      "source": [
        "#Checking for Multicollinearity"
      ]
    },
    {
      "cell_type": "code",
      "metadata": {
        "id": "FcPeC_zg4rSw"
      },
      "source": [
        "#Data pre-processing\n",
        "X = Housing.iloc[:, 1:].values\n",
        "y = Housing.iloc[:, 0].values"
      ],
      "execution_count": 39,
      "outputs": []
    },
    {
      "cell_type": "code",
      "metadata": {
        "colab": {
          "base_uri": "https://localhost:8080/"
        },
        "id": "-mVsvwfz7fVf",
        "outputId": "3480360c-ec00-4a34-aa33-7103b0c48a07"
      },
      "source": [
        "print(y)"
      ],
      "execution_count": 40,
      "outputs": [
        {
          "output_type": "stream",
          "name": "stdout",
          "text": [
            "[221900. 538000. 180000. ... 402101. 400000. 325000.]\n"
          ]
        }
      ]
    },
    {
      "cell_type": "code",
      "metadata": {
        "colab": {
          "base_uri": "https://localhost:8080/"
        },
        "id": "Orpak_3674Wy",
        "outputId": "aeb9bdc1-1e6e-4e0c-8e24-bca0dbb5f3df"
      },
      "source": [
        "print(X)"
      ],
      "execution_count": 41,
      "outputs": [
        {
          "output_type": "stream",
          "name": "stdout",
          "text": [
            "[[1.000e+00 3.000e+00 1.180e+03 ... 0.000e+00 1.340e+03 5.650e+03]\n",
            " [2.250e+00 3.000e+00 2.570e+03 ... 1.991e+03 1.690e+03 7.639e+03]\n",
            " [1.000e+00 2.000e+00 7.700e+02 ... 0.000e+00 2.720e+03 8.062e+03]\n",
            " ...\n",
            " [7.500e-01 2.000e+00 1.020e+03 ... 0.000e+00 1.020e+03 2.007e+03]\n",
            " [2.500e+00 3.000e+00 1.600e+03 ... 0.000e+00 1.410e+03 1.287e+03]\n",
            " [7.500e-01 2.000e+00 1.020e+03 ... 0.000e+00 1.020e+03 1.357e+03]]\n"
          ]
        }
      ]
    },
    {
      "cell_type": "code",
      "metadata": {
        "colab": {
          "base_uri": "https://localhost:8080/"
        },
        "id": "MBQLgKuf99m_",
        "outputId": "3981131e-c6de-40c7-8602-81b2233aeff3"
      },
      "source": [
        "from statsmodels.stats.outliers_influence import variance_inflation_factor\n",
        "from statsmodels.tools.tools import add_constant\n",
        "\n",
        "x = add_constant(Housing)\n",
        "\n",
        "pd.Series([variance_inflation_factor(x.values, i)\n",
        "for i in range(x.shape[1])], index=x.columns)"
      ],
      "execution_count": 42,
      "outputs": [
        {
          "output_type": "stream",
          "name": "stderr",
          "text": [
            "/usr/local/lib/python3.7/dist-packages/statsmodels/stats/outliers_influence.py:185: RuntimeWarning: divide by zero encountered in double_scalars\n",
            "  vif = 1. / (1. - r_squared_i)\n"
          ]
        },
        {
          "output_type": "execute_result",
          "data": {
            "text/plain": [
              "const            9690.282266\n",
              "price               2.888707\n",
              "bathrooms           3.374838\n",
              "bedrooms            1.672798\n",
              "sqft_living              inf\n",
              "sqft_lot            2.088118\n",
              "floors              1.936498\n",
              "waterfront          1.256965\n",
              "view                1.427986\n",
              "condition           1.225147\n",
              "grade               3.659145\n",
              "sqft_above               inf\n",
              "sqft_basement            inf\n",
              "yr_built            2.247494\n",
              "yr_renovated        1.144101\n",
              "sqft_living15       2.824197\n",
              "sqft_lot15          2.123299\n",
              "dtype: float64"
            ]
          },
          "metadata": {},
          "execution_count": 42
        }
      ]
    },
    {
      "cell_type": "markdown",
      "metadata": {
        "id": "DmJ9L6MUAAp7"
      },
      "source": [
        "*no multicollinearity:(bedrooms,floors,waterfront,view,condition,year renovated)\n",
        "\n",
        "*Moderate multicollinearity:(price,bathrooms,sqft lot,grade,year built,sqft living,sqft lot15)\n",
        "\n",
        "*Perfect multicollinearity(sqft living,sqft above,sqft basement)\n",
        "  "
      ]
    },
    {
      "cell_type": "markdown",
      "metadata": {
        "id": "UATNomFvEqSP"
      },
      "source": [
        "#Assessing heteroskedasticity"
      ]
    },
    {
      "cell_type": "markdown",
      "metadata": {
        "id": "rx7QGOS9E5P-"
      },
      "source": [
        "Bartlett's Test"
      ]
    },
    {
      "cell_type": "code",
      "metadata": {
        "id": "0e4kBra3WdEh"
      },
      "source": [
        "from scipy.stats import bartlett"
      ],
      "execution_count": 43,
      "outputs": []
    },
    {
      "cell_type": "code",
      "metadata": {
        "id": "GF37PxRRWy_k"
      },
      "source": [
        "#subsetting the data\n",
        "bedrooms = Housing['bedrooms']\n",
        "bathrooms = Housing['bathrooms']\n",
        "waterfront = Housing['waterfront']"
      ],
      "execution_count": 64,
      "outputs": []
    },
    {
      "cell_type": "code",
      "metadata": {
        "id": "ctiYcDHxa3hn"
      },
      "source": [
        "stat, p = bartlett(bedrooms, bathrooms, waterfront)"
      ],
      "execution_count": 66,
      "outputs": []
    },
    {
      "cell_type": "code",
      "metadata": {
        "colab": {
          "base_uri": "https://localhost:8080/"
        },
        "id": "FHNo_aUVcpAB",
        "outputId": "bda9a369-96d0-4a58-df52-12e3f69518a4"
      },
      "source": [
        "print(stat, p)"
      ],
      "execution_count": 67,
      "outputs": [
        {
          "output_type": "stream",
          "name": "stdout",
          "text": [
            "73753.61506227334 0.0\n"
          ]
        }
      ]
    },
    {
      "cell_type": "markdown",
      "metadata": {
        "id": "bVcCaW7jeNw_"
      },
      "source": [
        "Since we have p value of less than 0.05 we will reject the null hypothesis that states there is no difference  in variance between the groups"
      ]
    },
    {
      "cell_type": "markdown",
      "metadata": {
        "id": "CWgTKf_tbj1Q"
      },
      "source": [
        "#Residual Plots"
      ]
    },
    {
      "cell_type": "code",
      "metadata": {
        "id": "zjqz1lcpbmse",
        "colab": {
          "base_uri": "https://localhost:8080/"
        },
        "outputId": "13821afb-c8f1-4f61-ba65-026b68635ddc"
      },
      "source": [
        "import statsmodels.api as sm\n",
        "from statsmodels.formula.api import ols\n",
        "\n",
        "model = ols('bedrooms ~ price + bathrooms', data=Housing).fit()\n",
        "\n",
        "print(model.summary())\n"
      ],
      "execution_count": 71,
      "outputs": [
        {
          "output_type": "stream",
          "name": "stdout",
          "text": [
            "                            OLS Regression Results                            \n",
            "==============================================================================\n",
            "Dep. Variable:               bedrooms   R-squared:                       0.268\n",
            "Model:                            OLS   Adj. R-squared:                  0.268\n",
            "Method:                 Least Squares   F-statistic:                     3958.\n",
            "Date:                Sat, 16 Oct 2021   Prob (F-statistic):               0.00\n",
            "Time:                        10:15:33   Log-Likelihood:                -25724.\n",
            "No. Observations:               21610   AIC:                         5.145e+04\n",
            "Df Residuals:                   21607   BIC:                         5.148e+04\n",
            "Df Model:                           2                                         \n",
            "Covariance Type:            nonrobust                                         \n",
            "==============================================================================\n",
            "                 coef    std err          t      P>|t|      [0.025      0.975]\n",
            "------------------------------------------------------------------------------\n",
            "Intercept      2.0519      0.016    129.710      0.000       2.021       2.083\n",
            "price       1.308e-07   1.73e-08      7.553      0.000    9.68e-08    1.65e-07\n",
            "bathrooms      0.5903      0.008     71.475      0.000       0.574       0.606\n",
            "==============================================================================\n",
            "Omnibus:                    18050.064   Durbin-Watson:                   1.957\n",
            "Prob(Omnibus):                  0.000   Jarque-Bera (JB):          7812592.340\n",
            "Skew:                           3.001   Prob(JB):                         0.00\n",
            "Kurtosis:                      95.955   Cond. No.                     2.08e+06\n",
            "==============================================================================\n",
            "\n",
            "Warnings:\n",
            "[1] Standard Errors assume that the covariance matrix of the errors is correctly specified.\n",
            "[2] The condition number is large, 2.08e+06. This might indicate that there are\n",
            "strong multicollinearity or other numerical problems.\n"
          ]
        }
      ]
    },
    {
      "cell_type": "code",
      "metadata": {
        "colab": {
          "base_uri": "https://localhost:8080/",
          "height": 582
        },
        "id": "4Jw4_P3Alyo-",
        "outputId": "82212045-4fdf-4326-bfda-0d49f34048be"
      },
      "source": [
        "fig = plt.figure(figsize=(12,8))\n",
        "fig = sm.graphics.plot_regress_exog(model, 'price', fig=fig)"
      ],
      "execution_count": 72,
      "outputs": [
        {
          "output_type": "display_data",
          "data": {
            "image/png": "[encoded data removed]",
            "text/plain": [
              "<Figure size 864x576 with 4 Axes>"
            ]
          },
          "metadata": {}
        }
      ]
    },
    {
      "cell_type": "markdown",
      "metadata": {
        "id": "VEP7GVWsU9r-"
      },
      "source": [
        "#Multivariate Analysis"
      ]
    },
    {
      "cell_type": "markdown",
      "metadata": {
        "id": "pZPg2yhvyx8C"
      },
      "source": [
        "#Dimensionality Reduction(LDA)"
      ]
    },
    {
      "cell_type": "code",
      "metadata": {
        "id": "vaOpWHkDVEN6"
      },
      "source": [
        "X = Housing.iloc[:, 1:].values\n",
        "y = Housing.iloc[:, 0].values"
      ],
      "execution_count": 31,
      "outputs": []
    },
    {
      "cell_type": "code",
      "metadata": {
        "id": "OaDbJWO-OLTs"
      },
      "source": [
        "#Splitting the dataset into training set and test set\n",
        "from sklearn.model_selection import train_test_split\n",
        "X_train, X_test, y_train, y_test = train_test_split(X, y, test_size = 0.2, random_state = 0)"
      ],
      "execution_count": 32,
      "outputs": []
    },
    {
      "cell_type": "code",
      "metadata": {
        "id": "It-8v47ZPCiK"
      },
      "source": [
        "#Feature Scaling\n",
        "from sklearn.preprocessing import StandardScaler\n",
        "sc = StandardScaler()\n",
        "X_train = sc.fit_transform(X_train)\n",
        "X_test = sc.transform(X_test)"
      ],
      "execution_count": 33,
      "outputs": []
    },
    {
      "cell_type": "code",
      "metadata": {
        "id": "RB4iJS5nPv8F"
      },
      "source": [
        "#Applying LDA\n",
        "from sklearn.discriminant_analysis import LinearDiscriminantAnalysis as LDA\n",
        "lda = LDA(n_components = 2)\n",
        "X_train = lda.fit_transform(X_train, y_train)\n",
        "X_test = lda.transform(X_test)"
      ],
      "execution_count": 34,
      "outputs": []
    },
    {
      "cell_type": "code",
      "metadata": {
        "colab": {
          "base_uri": "https://localhost:8080/"
        },
        "id": "QKlNz040Qzt2",
        "outputId": "03f14535-8c88-48e5-9e01-bcfacf916b3a"
      },
      "source": [
        "#Training the Multiple Linear Regression model on the training set\n",
        "from sklearn.linear_model import LinearRegression\n",
        "regressor = LinearRegression()\n",
        "regressor.fit(X_train, y_train)"
      ],
      "execution_count": 35,
      "outputs": [
        {
          "output_type": "execute_result",
          "data": {
            "text/plain": [
              "LinearRegression(copy_X=True, fit_intercept=True, n_jobs=None, normalize=False)"
            ]
          },
          "metadata": {},
          "execution_count": 35
        }
      ]
    },
    {
      "cell_type": "code",
      "metadata": {
        "colab": {
          "base_uri": "https://localhost:8080/"
        },
        "id": "GE8AvqP5Rxh8",
        "outputId": "34be5da3-c03e-4cca-b9b5-924f9259c368"
      },
      "source": [
        "#Predicting the test set results\n",
        "y_pred = regressor.predict(X_test)\n",
        "np.set_printoptions(precision=2)\n",
        "print(np.concatenate((y_pred.reshape(len(y_pred),1), y_test.reshape(len(y_test),1)),1))"
      ],
      "execution_count": 36,
      "outputs": [
        {
          "output_type": "stream",
          "name": "stdout",
          "text": [
            "[[630568.76 680200.  ]\n",
            " [470973.48 550000.  ]\n",
            " [249099.62 230000.  ]\n",
            " ...\n",
            " [553551.19 395000.  ]\n",
            " [424498.37 489000.  ]\n",
            " [307755.99 382500.  ]]\n"
          ]
        }
      ]
    },
    {
      "cell_type": "code",
      "metadata": {
        "colab": {
          "base_uri": "https://localhost:8080/"
        },
        "id": "gZc5nQvfTnwp",
        "outputId": "8d15ba41-a64c-425f-e031-ee89aeb0f461"
      },
      "source": [
        "from sklearn import metrics\n",
        "print('Mean Absolute Error:', metrics.mean_absolute_error(y_test, y_pred))\n",
        "print('Mean Squared Error:', metrics.mean_squared_error(y_test, y_pred))\n",
        "print('Root Mean Squared Error:', np.sqrt(metrics.mean_squared_error(y_test, y_pred)))"
      ],
      "execution_count": 37,
      "outputs": [
        {
          "output_type": "stream",
          "name": "stdout",
          "text": [
            "Mean Absolute Error: 139339.52142726767\n",
            "Mean Squared Error: 44405356414.1834\n",
            "Root Mean Squared Error: 210725.784882115\n"
          ]
        }
      ]
    },
    {
      "cell_type": "code",
      "metadata": {
        "colab": {
          "base_uri": "https://localhost:8080/",
          "height": 317
        },
        "id": "2x1RwzgPU3xM",
        "outputId": "a9315fa6-e13d-44e2-9dce-4e3bac92d103"
      },
      "source": [
        "Housing.describe()"
      ],
      "execution_count": 38,
      "outputs": [
        {
          "output_type": "execute_result",
          "data": {
            "text/html": [
              "<div>\n",
              "<style scoped>\n",
              "    .dataframe tbody tr th:only-of-type {\n",
              "        vertical-align: middle;\n",
              "    }\n",
              "\n",
              "    .dataframe tbody tr th {\n",
              "        vertical-align: top;\n",
              "    }\n",
              "\n",
              "    .dataframe thead th {\n",
              "        text-align: right;\n",
              "    }\n",
              "</style>\n",
              "<table border=\"1\" class=\"dataframe\">\n",
              "  <thead>\n",
              "    <tr style=\"text-align: right;\">\n",
              "      <th></th>\n",
              "      <th>price</th>\n",
              "      <th>bathrooms</th>\n",
              "      <th>bedrooms</th>\n",
              "      <th>sqft_living</th>\n",
              "      <th>sqft_lot</th>\n",
              "      <th>floors</th>\n",
              "      <th>waterfront</th>\n",
              "      <th>view</th>\n",
              "      <th>condition</th>\n",
              "      <th>grade</th>\n",
              "      <th>sqft_above</th>\n",
              "      <th>sqft_basement</th>\n",
              "      <th>yr_built</th>\n",
              "      <th>yr_renovated</th>\n",
              "      <th>sqft_living15</th>\n",
              "      <th>sqft_lot15</th>\n",
              "    </tr>\n",
              "  </thead>\n",
              "  <tbody>\n",
              "    <tr>\n",
              "      <th>count</th>\n",
              "      <td>2.161000e+04</td>\n",
              "      <td>21610.000000</td>\n",
              "      <td>21610.000000</td>\n",
              "      <td>21610.000000</td>\n",
              "      <td>2.161000e+04</td>\n",
              "      <td>21610.000000</td>\n",
              "      <td>21610.000000</td>\n",
              "      <td>21610.000000</td>\n",
              "      <td>21610.000000</td>\n",
              "      <td>21610.000000</td>\n",
              "      <td>21610.000000</td>\n",
              "      <td>21610.000000</td>\n",
              "      <td>21610.000000</td>\n",
              "      <td>21610.000000</td>\n",
              "      <td>21610.000000</td>\n",
              "      <td>21610.000000</td>\n",
              "    </tr>\n",
              "    <tr>\n",
              "      <th>mean</th>\n",
              "      <td>5.401789e+05</td>\n",
              "      <td>2.114739</td>\n",
              "      <td>3.370847</td>\n",
              "      <td>2079.881212</td>\n",
              "      <td>1.510829e+04</td>\n",
              "      <td>1.494239</td>\n",
              "      <td>0.007543</td>\n",
              "      <td>0.234197</td>\n",
              "      <td>3.409440</td>\n",
              "      <td>7.656779</td>\n",
              "      <td>1788.347894</td>\n",
              "      <td>291.533318</td>\n",
              "      <td>1971.003609</td>\n",
              "      <td>84.322351</td>\n",
              "      <td>1986.518695</td>\n",
              "      <td>12769.031976</td>\n",
              "    </tr>\n",
              "    <tr>\n",
              "      <th>std</th>\n",
              "      <td>3.673876e+05</td>\n",
              "      <td>0.770204</td>\n",
              "      <td>0.930110</td>\n",
              "      <td>918.500299</td>\n",
              "      <td>4.142323e+04</td>\n",
              "      <td>0.539994</td>\n",
              "      <td>0.086523</td>\n",
              "      <td>0.766136</td>\n",
              "      <td>0.650764</td>\n",
              "      <td>1.175500</td>\n",
              "      <td>828.138723</td>\n",
              "      <td>442.596699</td>\n",
              "      <td>29.372639</td>\n",
              "      <td>401.499264</td>\n",
              "      <td>685.425781</td>\n",
              "      <td>27305.972464</td>\n",
              "    </tr>\n",
              "    <tr>\n",
              "      <th>min</th>\n",
              "      <td>7.500000e+04</td>\n",
              "      <td>0.000000</td>\n",
              "      <td>0.000000</td>\n",
              "      <td>290.000000</td>\n",
              "      <td>5.200000e+02</td>\n",
              "      <td>1.000000</td>\n",
              "      <td>0.000000</td>\n",
              "      <td>0.000000</td>\n",
              "      <td>1.000000</td>\n",
              "      <td>1.000000</td>\n",
              "      <td>290.000000</td>\n",
              "      <td>0.000000</td>\n",
              "      <td>1900.000000</td>\n",
              "      <td>0.000000</td>\n",
              "      <td>399.000000</td>\n",
              "      <td>651.000000</td>\n",
              "    </tr>\n",
              "    <tr>\n",
              "      <th>25%</th>\n",
              "      <td>3.216125e+05</td>\n",
              "      <td>1.750000</td>\n",
              "      <td>3.000000</td>\n",
              "      <td>1425.500000</td>\n",
              "      <td>5.040000e+03</td>\n",
              "      <td>1.000000</td>\n",
              "      <td>0.000000</td>\n",
              "      <td>0.000000</td>\n",
              "      <td>3.000000</td>\n",
              "      <td>7.000000</td>\n",
              "      <td>1190.000000</td>\n",
              "      <td>0.000000</td>\n",
              "      <td>1951.000000</td>\n",
              "      <td>0.000000</td>\n",
              "      <td>1490.000000</td>\n",
              "      <td>5100.000000</td>\n",
              "    </tr>\n",
              "    <tr>\n",
              "      <th>50%</th>\n",
              "      <td>4.500000e+05</td>\n",
              "      <td>2.250000</td>\n",
              "      <td>3.000000</td>\n",
              "      <td>1910.000000</td>\n",
              "      <td>7.619000e+03</td>\n",
              "      <td>1.500000</td>\n",
              "      <td>0.000000</td>\n",
              "      <td>0.000000</td>\n",
              "      <td>3.000000</td>\n",
              "      <td>7.000000</td>\n",
              "      <td>1560.000000</td>\n",
              "      <td>0.000000</td>\n",
              "      <td>1975.000000</td>\n",
              "      <td>0.000000</td>\n",
              "      <td>1840.000000</td>\n",
              "      <td>7620.000000</td>\n",
              "    </tr>\n",
              "    <tr>\n",
              "      <th>75%</th>\n",
              "      <td>6.450000e+05</td>\n",
              "      <td>2.500000</td>\n",
              "      <td>4.000000</td>\n",
              "      <td>2550.000000</td>\n",
              "      <td>1.068875e+04</td>\n",
              "      <td>2.000000</td>\n",
              "      <td>0.000000</td>\n",
              "      <td>0.000000</td>\n",
              "      <td>4.000000</td>\n",
              "      <td>8.000000</td>\n",
              "      <td>2210.000000</td>\n",
              "      <td>560.000000</td>\n",
              "      <td>1997.000000</td>\n",
              "      <td>0.000000</td>\n",
              "      <td>2360.000000</td>\n",
              "      <td>10083.000000</td>\n",
              "    </tr>\n",
              "    <tr>\n",
              "      <th>max</th>\n",
              "      <td>7.700000e+06</td>\n",
              "      <td>8.000000</td>\n",
              "      <td>33.000000</td>\n",
              "      <td>13540.000000</td>\n",
              "      <td>1.651359e+06</td>\n",
              "      <td>3.500000</td>\n",
              "      <td>1.000000</td>\n",
              "      <td>4.000000</td>\n",
              "      <td>5.000000</td>\n",
              "      <td>13.000000</td>\n",
              "      <td>9410.000000</td>\n",
              "      <td>4820.000000</td>\n",
              "      <td>2015.000000</td>\n",
              "      <td>2015.000000</td>\n",
              "      <td>6210.000000</td>\n",
              "      <td>871200.000000</td>\n",
              "    </tr>\n",
              "  </tbody>\n",
              "</table>\n",
              "</div>"
            ],
            "text/plain": [
              "              price     bathrooms  ...  sqft_living15     sqft_lot15\n",
              "count  2.161000e+04  21610.000000  ...   21610.000000   21610.000000\n",
              "mean   5.401789e+05      2.114739  ...    1986.518695   12769.031976\n",
              "std    3.673876e+05      0.770204  ...     685.425781   27305.972464\n",
              "min    7.500000e+04      0.000000  ...     399.000000     651.000000\n",
              "25%    3.216125e+05      1.750000  ...    1490.000000    5100.000000\n",
              "50%    4.500000e+05      2.250000  ...    1840.000000    7620.000000\n",
              "75%    6.450000e+05      2.500000  ...    2360.000000   10083.000000\n",
              "max    7.700000e+06      8.000000  ...    6210.000000  871200.000000\n",
              "\n",
              "[8 rows x 16 columns]"
            ]
          },
          "metadata": {},
          "execution_count": 38
        }
      ]
    },
    {
      "cell_type": "markdown",
      "metadata": {
        "id": "ls49YadGbBc3"
      },
      "source": [
        "#Quantile Regression"
      ]
    },
    {
      "cell_type": "code",
      "metadata": {
        "colab": {
          "base_uri": "https://localhost:8080/"
        },
        "id": "zJQm7GkabHjd",
        "outputId": "bc32bf18-c71b-40b1-ba35-d2edb8e8933e"
      },
      "source": [
        "\n",
        "import statsmodels.formula.api as smf\n",
        "\n",
        "# Finding the regression coefficients for the conditioned median, 0.5 quantile\n",
        "#\n",
        "k = Housing_sample[['bedrooms','price']]\n",
        "\n",
        "mod = smf.quantreg('bedrooms ~ price', k)\n",
        "res = mod.fit(q=.5)\n",
        "\n",
        "# Then print out the summary of our model\n",
        "#\n",
        "print(res.summary())\n",
        "\n",
        "# You see that our intercept is 6.0978 and our slope or the coefficient for our x is 0.0976. \n",
        "# These are the parameters for the 0.5th quantile of our y. "
      ],
      "execution_count": 43,
      "outputs": [
        {
          "output_type": "stream",
          "name": "stdout",
          "text": [
            "                         QuantReg Regression Results                          \n",
            "==============================================================================\n",
            "Dep. Variable:               bedrooms   Pseudo R-squared:               0.2146\n",
            "Model:                       QuantReg   Bandwidth:                       1.180\n",
            "Method:                 Least Squares   Sparsity:                        2.111\n",
            "Date:                Fri, 15 Oct 2021   No. Observations:                   20\n",
            "Time:                        18:33:52   Df Residuals:                       18\n",
            "                                        Df Model:                            1\n",
            "==============================================================================\n",
            "                 coef    std err          t      P>|t|      [0.025      0.975]\n",
            "------------------------------------------------------------------------------\n",
            "Intercept      2.3199      0.825      2.811      0.012       0.586       4.054\n",
            "price       2.688e-06   1.74e-06      1.547      0.139   -9.63e-07    6.34e-06\n",
            "==============================================================================\n",
            "\n",
            "The condition number is large, 1.66e+06. This might indicate that there are\n",
            "strong multicollinearity or other numerical problems.\n"
          ]
        }
      ]
    },
    {
      "cell_type": "code",
      "metadata": {
        "colab": {
          "base_uri": "https://localhost:8080/"
        },
        "id": "UOkc8t_U_J2t",
        "outputId": "6100f5ea-2669-4645-9a95-874f6a7a1b21"
      },
      "source": [
        "## Similarly we can do the models for other quantiles\n",
        "# \n",
        "quantiles = np.arange(0.1,1,0.1) \n",
        "models = []\n",
        "params = []\n",
        "\n",
        "# We build models for each quantile in our list quantiles inside a for loop\n",
        "# As we build these models we also store the model parameters in a list called params. \n",
        "for qt in quantiles: \n",
        "\tres = mod.fit(q = qt )\n",
        "\tmodels.append(res)\n",
        "\tparams.append([qt, res.params['Intercept'], res.params['price']] + res.conf_int().loc['price'].tolist())\n",
        "\n",
        "# Lastly we make a dataframe of the same name, so we we can view our different models.\n",
        "params = pd.DataFrame(data = params, columns = ['qt', 'intercept', 'price_coef', 'cf_lower_bound', 'cf_upper_bound'])\n",
        "print(params)"
      ],
      "execution_count": 44,
      "outputs": [
        {
          "output_type": "stream",
          "name": "stderr",
          "text": [
            "/usr/local/lib/python3.7/dist-packages/statsmodels/regression/quantile_regression.py:192: IterationLimitWarning: Maximum number of iterations (1000) reached.\n",
            "  \") reached.\", IterationLimitWarning)\n",
            "/usr/local/lib/python3.7/dist-packages/statsmodels/regression/quantile_regression.py:192: IterationLimitWarning: Maximum number of iterations (1000) reached.\n",
            "  \") reached.\", IterationLimitWarning)\n"
          ]
        },
        {
          "output_type": "stream",
          "name": "stdout",
          "text": [
            "    qt     intercept    price_coef  cf_lower_bound  cf_upper_bound\n",
            "0  0.1  1.131055e-11  5.825190e-06             NaN             NaN\n",
            "1  0.2  2.999996e+00  9.654941e-12             NaN             NaN\n",
            "2  0.3  1.899340e+00  3.346722e-06   -1.109242e-06        0.000008\n",
            "3  0.4  2.427403e+00  2.044990e-06   -1.804613e-06        0.000006\n",
            "4  0.5  2.319893e+00  2.688171e-06   -9.634036e-07        0.000006\n",
            "5  0.6  2.510107e+00  2.449474e-06   -1.178697e-06        0.000006\n",
            "6  0.7  2.229111e+00  3.134320e-06   -5.453906e-07        0.000007\n",
            "7  0.8  3.999999e+00  1.748759e-12             NaN             NaN\n",
            "8  0.9  2.222930e+00  2.632495e-06             NaN             NaN\n"
          ]
        },
        {
          "output_type": "stream",
          "name": "stderr",
          "text": [
            "/usr/local/lib/python3.7/dist-packages/statsmodels/regression/quantile_regression.py:192: IterationLimitWarning: Maximum number of iterations (1000) reached.\n",
            "  \") reached.\", IterationLimitWarning)\n"
          ]
        }
      ]
    },
    {
      "cell_type": "markdown",
      "metadata": {
        "id": "QlKVEfI_AgzH"
      },
      "source": [
        "#Ridge Regression"
      ]
    },
    {
      "cell_type": "code",
      "metadata": {
        "id": "1w6m9thUH-Bl"
      },
      "source": [
        "import numpy as np\n",
        "import pandas as pd\n",
        "from sklearn.model_selection import GridSearchCV\n",
        "from sklearn.linear_model import Ridge\n",
        "from sklearn.linear_model import LinearRegression\n",
        "from sklearn.metrics import mean_squared_error"
      ],
      "execution_count": 45,
      "outputs": []
    },
    {
      "cell_type": "code",
      "metadata": {
        "colab": {
          "base_uri": "https://localhost:8080/"
        },
        "id": "cJEsU4BxEfWV",
        "outputId": "e6e39f0f-4ec6-4ecd-9f04-a905a70f5c9c"
      },
      "source": [
        "# Creating our baseline regression model\n",
        "# This is a model that has no regularization to it\n",
        "# \n",
        "regression = LinearRegression()\n",
        "regression.fit(X,y)\n",
        "first_model = (mean_squared_error(y_true=y,y_pred=regression.predict(X)))\n",
        "print(first_model)"
      ],
      "execution_count": 46,
      "outputs": [
        {
          "output_type": "stream",
          "name": "stdout",
          "text": [
            "46722423967.51933\n"
          ]
        }
      ]
    },
    {
      "cell_type": "code",
      "metadata": {
        "id": "HfKbTnSxJAel"
      },
      "source": [
        "ridge = Ridge(normalize=True)\n",
        "search = GridSearchCV(estimator=ridge,param_grid={'alpha':np.logspace(-5,2,8)},scoring='neg_mean_squared_error',n_jobs=1,refit=True,cv=10)"
      ],
      "execution_count": 47,
      "outputs": []
    },
    {
      "cell_type": "code",
      "metadata": {
        "colab": {
          "base_uri": "https://localhost:8080/"
        },
        "id": "BOGNiyTaKAJG",
        "outputId": "e1926ae6-290f-499b-ffb0-dcb2ed375e10"
      },
      "source": [
        "search.fit(X,y)\n",
        "search.best_params_\n",
        "{'alpha': 0.01}\n",
        "abs(search.best_score_) "
      ],
      "execution_count": 48,
      "outputs": [
        {
          "output_type": "execute_result",
          "data": {
            "text/plain": [
              "47378090223.63537"
            ]
          },
          "metadata": {},
          "execution_count": 48
        }
      ]
    },
    {
      "cell_type": "code",
      "metadata": {
        "colab": {
          "base_uri": "https://localhost:8080/"
        },
        "id": "ooVRMCuOKY6u",
        "outputId": "66299e2c-60dd-47a6-a7a9-43da3c83e027"
      },
      "source": [
        "ridge = Ridge(normalize=True,alpha=0.01)\n",
        "ridge.fit(X,y)\n",
        "second_model = (mean_squared_error(y_true=y,y_pred=ridge.predict(X)))\n",
        "print(second_model)"
      ],
      "execution_count": 49,
      "outputs": [
        {
          "output_type": "stream",
          "name": "stdout",
          "text": [
            "46730236318.487785\n"
          ]
        }
      ]
    },
    {
      "cell_type": "code",
      "metadata": {
        "colab": {
          "base_uri": "https://localhost:8080/"
        },
        "id": "qfXD2NMDKg7R",
        "outputId": "6c702332-4b95-4e03-cb4a-7fb4482c0c79"
      },
      "source": [
        "coef_dict_baseline = {}\n",
        "for coef, feat in zip(regression.coef_,Housing.columns):\n",
        "    coef_dict_baseline[feat] = coef\n",
        "coef_dict_baseline"
      ],
      "execution_count": 50,
      "outputs": [
        {
          "output_type": "execute_result",
          "data": {
            "text/plain": [
              "{'bathrooms': -39311.08734391684,\n",
              " 'bedrooms': 109.32884229776027,\n",
              " 'condition': 119822.6508515732,\n",
              " 'floors': 578744.0611102405,\n",
              " 'grade': 51.54704015246898,\n",
              " 'price': 45694.56194155411,\n",
              " 'sqft_above': 57.781802158574465,\n",
              " 'sqft_basement': -3572.3495175475555,\n",
              " 'sqft_living': -0.002059160495264223,\n",
              " 'sqft_living15': -0.5502287100935064,\n",
              " 'sqft_lot': 26958.49481968391,\n",
              " 'view': 19573.604792331673,\n",
              " 'waterfront': 43390.48875146217,\n",
              " 'yr_built': 10.36253234331437,\n",
              " 'yr_renovated': 24.887709957479274}"
            ]
          },
          "metadata": {},
          "execution_count": 50
        }
      ]
    },
    {
      "cell_type": "markdown",
      "metadata": {
        "id": "WLjD8ENEME6Z"
      },
      "source": [
        "#Lasso Regression"
      ]
    },
    {
      "cell_type": "code",
      "metadata": {
        "id": "PYQ70gaBMJfW"
      },
      "source": [
        "from sklearn.linear_model import Lasso\n",
        "from sklearn.preprocessing import StandardScaler"
      ],
      "execution_count": 51,
      "outputs": []
    },
    {
      "cell_type": "code",
      "metadata": {
        "id": "M6yBwv_CRzf8"
      },
      "source": [
        "# Scaling data \n",
        "scaler = StandardScaler()\n",
        "scaler.fit(X)\n",
        "X = scaler.transform(X)"
      ],
      "execution_count": 52,
      "outputs": []
    },
    {
      "cell_type": "code",
      "metadata": {
        "colab": {
          "base_uri": "https://localhost:8080/"
        },
        "id": "s4nXBtSHSAP7",
        "outputId": "518c6e86-2956-4a8a-a92e-e38b2c4ac5fc"
      },
      "source": [
        "# Importing linear models\n",
        "from sklearn import linear_model\n",
        "from sklearn.metrics import mean_squared_error\n",
        "\n",
        "# Creating lasso object\n",
        "lasso = linear_model.Lasso() \n",
        "\n",
        "# Fitting the models\n",
        "lasso.fit(X, y) \n",
        "\n",
        "# Print scores, MSE, and coefficients\n",
        "print(\"lasso score:\", lasso.score(X, y)) \n",
        "print(\"lasso MSE:\", mean_squared_error(y, lasso.predict(X))) \n",
        "print(\"lasso coef:\", lasso.coef_) "
      ],
      "execution_count": 53,
      "outputs": [
        {
          "output_type": "stream",
          "name": "stdout",
          "text": [
            "lasso score: 0.6538243542447112\n",
            "lasso MSE: 46722423999.74872\n",
            "lasso coef: [ 3.52e+04 -3.66e+04  2.70e+05 -8.42e+01  1.46e+04  5.01e+04  3.32e+04\n",
            "  1.27e+04  1.41e+05 -1.11e+05 -5.63e+04 -1.05e+05  4.16e+03  1.71e+04\n",
            " -1.50e+04]\n"
          ]
        },
        {
          "output_type": "stream",
          "name": "stderr",
          "text": [
            "/usr/local/lib/python3.7/dist-packages/sklearn/linear_model/_coordinate_descent.py:476: ConvergenceWarning: Objective did not converge. You might want to increase the number of iterations. Duality gap: 41650942900828.5, tolerance: 291664533601.623\n",
            "  positive)\n"
          ]
        }
      ]
    },
    {
      "cell_type": "code",
      "metadata": {
        "colab": {
          "base_uri": "https://localhost:8080/"
        },
        "id": "UKYYNJ4GVgzr",
        "outputId": "c436ed5e-51e9-4b45-cf7f-6232398749f3"
      },
      "source": [
        "# Making necessary imports, split data into training and test sets, and choose a set of parameters \n",
        "from sklearn.model_selection import train_test_split\n",
        "from sklearn.model_selection import GridSearchCV\n",
        "import warnings\n",
        "warnings.filterwarnings(\"ignore\")\n",
        "\n",
        "X_train, X_test, y_train, y_test = train_test_split(X, y, test_size=0.25, random_state=101)\n",
        "parameters = {'alpha': np.concatenate((np.arange(0.1,2,0.1), np.arange(2, 5, 0.5), np.arange(5, 25, 1)))}\n",
        "\n",
        "linear = linear_model.LinearRegression()\n",
        "lasso = linear_model.Lasso() \n",
        "gridlasso = GridSearchCV(lasso, parameters, scoring ='r2') \n",
        "\n",
        "# Fitting models and print the best parameters, R-squared scores, MSE, and coefficients\n",
        "gridlasso.fit(X_train, y_train) \n",
        "linear.fit(X_train, y_train) \n",
        "print(\"lasso best parameters:\", gridlasso.best_params_) \n",
        "print(\"lasso score:\", gridlasso.score(X_test, y_test))\n",
        "print(\"linear score:\", linear.score(X_test, y_test)) \n",
        "print(\"lasso MSE:\", mean_squared_error(y_test, gridlasso.predict(X_test)))\n",
        "print(\"linear MSE:\", mean_squared_error(y_test, linear.predict(X_test))) \n",
        "print(\"lasso best estimator coef:\", gridlasso.best_estimator_.coef_)\n",
        "print(\"linear coef:\", linear.coef_)"
      ],
      "execution_count": 54,
      "outputs": [
        {
          "output_type": "stream",
          "name": "stdout",
          "text": [
            "lasso best parameters: {'alpha': 24.0}\n",
            "lasso score: 0.6615917603317665\n",
            "linear score: 0.6616146881618619\n",
            "lasso MSE: 46020816592.021706\n",
            "linear MSE: 46017698590.3303\n",
            "lasso best estimator coef: [ 3.24e+04 -3.74e+04  2.21e+05 -1.42e+01  1.60e+04  4.50e+04  3.43e+04\n",
            "  1.17e+04  1.41e+05 -6.37e+04 -2.89e+04 -1.04e+05  3.17e+03  1.45e+04\n",
            " -1.48e+04]\n",
            "linear coef: [ 3.26e+04 -3.74e+04  7.80e+04 -4.09e+01  1.60e+04  4.50e+04  3.43e+04\n",
            "  1.17e+04  1.41e+05  6.52e+04  4.00e+04 -1.04e+05  3.18e+03  1.46e+04\n",
            " -1.48e+04]\n"
          ]
        }
      ]
    },
    {
      "cell_type": "code",
      "metadata": {
        "colab": {
          "base_uri": "https://localhost:8080/",
          "height": 464
        },
        "id": "N3mgdQZMdn76",
        "outputId": "233aade7-aa99-44f5-ce34-6ee9f23d1cce"
      },
      "source": [
        "# Importing library for visualization\n",
        "import matplotlib.pyplot as plt\n",
        "coefsLasso = [] \n",
        "\n",
        "# Building Lasso for 200 values of alpha and write the coefficients into array\n",
        "alphasLasso = np.arange (0, 20, 0.1) \n",
        "for i in range(200):\n",
        "    lasso = linear_model.Lasso(alpha=alphasLasso[i])\n",
        "    lasso.fit(X_train, y_train)\n",
        "    coefsLasso.append(lasso.coef_) \n",
        "\n",
        "# Building Lasso coefficient plots\n",
        "plt.figure(figsize = (16,7))\n",
        "\n",
        "plt.subplot(121)\n",
        "plt.plot(alphasLasso, coefsLasso)\n",
        "plt.title('Lasso coefficients')\n",
        "plt.xlabel('alpha')\n",
        "plt.ylabel('coefs')\n",
        "\n",
        "plt.show()"
      ],
      "execution_count": 55,
      "outputs": [
        {
          "output_type": "display_data",
          "data": {
            "image/png": "[encoded data removed]",
            "text/plain": [
              "<Figure size 1152x504 with 1 Axes>"
            ]
          },
          "metadata": {}
        }
      ]
    },
    {
      "cell_type": "markdown",
      "metadata": {
        "id": "VcfWaOAEeMTy"
      },
      "source": [
        "#Elastic Net Regression"
      ]
    },
    {
      "cell_type": "code",
      "metadata": {
        "id": "S9b71dU0eZfj"
      },
      "source": [
        "# Importing our libraries\n",
        "import numpy as np\n",
        "import pandas as pd\n",
        "from sklearn.model_selection import GridSearchCV\n",
        "from sklearn.linear_model import ElasticNet\n",
        "from sklearn.linear_model import LinearRegression\n",
        "from sklearn.metrics import mean_squared_error"
      ],
      "execution_count": 57,
      "outputs": []
    },
    {
      "cell_type": "code",
      "metadata": {
        "colab": {
          "base_uri": "https://localhost:8080/"
        },
        "id": "vQVGgHA6Rk2A",
        "outputId": "47859ad8-1d71-4b84-a2cc-83e7e0ebe0de"
      },
      "source": [
        "# Creating linear regression model for the purpose of comparison\n",
        "regression=LinearRegression()\n",
        "regression.fit(X,y)\n",
        "first_model=(mean_squared_error(y_true=y,y_pred=regression.predict(X)))\n",
        "print(first_model) \n"
      ],
      "execution_count": 59,
      "outputs": [
        {
          "output_type": "stream",
          "name": "stdout",
          "text": [
            "46722423967.519325\n"
          ]
        }
      ]
    },
    {
      "cell_type": "code",
      "metadata": {
        "colab": {
          "base_uri": "https://localhost:8080/"
        },
        "id": "XbwfEaZkR3ZF",
        "outputId": "c4dca8b3-d4f3-4f3f-c51a-a36ccb8660cc"
      },
      "source": [
        "coef_dict_baseline = {}\n",
        "for coef, feat in zip(regression.coef_,Housing.columns):\n",
        "    coef_dict_baseline[feat] = coef\n",
        "coef_dict_baseline"
      ],
      "execution_count": 63,
      "outputs": [
        {
          "output_type": "execute_result",
          "data": {
            "text/plain": [
              "{'bathrooms': -36562.777657196966,\n",
              " 'bedrooms': 76160.60988861576,\n",
              " 'condition': 140848.29123433636,\n",
              " 'floors': 50073.60494671638,\n",
              " 'grade': 64556.49610620879,\n",
              " 'price': 35193.306470660806,\n",
              " 'sqft_above': 37261.48139147778,\n",
              " 'sqft_basement': -104926.90336034725,\n",
              " 'sqft_living': -85.29509825221612,\n",
              " 'sqft_living15': -15024.182373410564,\n",
              " 'sqft_lot': 14557.0751729319,\n",
              " 'view': 12737.500574760576,\n",
              " 'waterfront': 33242.26629160015,\n",
              " 'yr_built': 4160.452846642101,\n",
              " 'yr_renovated': 17058.28332725523}"
            ]
          },
          "metadata": {},
          "execution_count": 63
        }
      ]
    },
    {
      "cell_type": "code",
      "metadata": {
        "id": "sLkYz8_5SbsS"
      },
      "source": [
        "# Elastic Net Model\n",
        "elastic=ElasticNet(normalize=True)\n",
        "search=GridSearchCV(estimator=elastic,param_grid={'alpha':np.logspace(-5,2,8),'l1_ratio':[.2,.4,.6,.8]},scoring='neg_mean_squared_error',n_jobs=1,refit=True,cv=10)"
      ],
      "execution_count": 64,
      "outputs": []
    },
    {
      "cell_type": "code",
      "metadata": {
        "colab": {
          "base_uri": "https://localhost:8080/"
        },
        "id": "YUmDcjlnSnDw",
        "outputId": "e37e6baa-c792-4f11-ecd7-967db2200e66"
      },
      "source": [
        "#fitting our model \n",
        "# \n",
        "search.fit(X,y)\n",
        "search.best_params_\n",
        "abs(search.best_score_)"
      ],
      "execution_count": 65,
      "outputs": [
        {
          "output_type": "execute_result",
          "data": {
            "text/plain": [
              "47428118503.560104"
            ]
          },
          "metadata": {},
          "execution_count": 65
        }
      ]
    },
    {
      "cell_type": "code",
      "metadata": {
        "colab": {
          "base_uri": "https://localhost:8080/"
        },
        "id": "83zxYTC0S_Oa",
        "outputId": "baeaff35-d586-425f-d9fa-1219eeea38bb"
      },
      "source": [
        "elastic=ElasticNet(normalize=True,alpha=0.001,l1_ratio=0.75)\n",
        "elastic.fit(X,y)\n",
        "second_model=(mean_squared_error(y_true=y,y_pred=elastic.predict(X)))\n",
        "print(second_model)"
      ],
      "execution_count": 66,
      "outputs": [
        {
          "output_type": "stream",
          "name": "stdout",
          "text": [
            "82506604452.54384\n"
          ]
        }
      ]
    },
    {
      "cell_type": "code",
      "metadata": {
        "colab": {
          "base_uri": "https://localhost:8080/"
        },
        "id": "NT6GEUQVTIyW",
        "outputId": "c79979d3-1ff9-41c5-c702-1448c87da076"
      },
      "source": [
        "coef_dict_baseline = {}\n",
        "for coef, feat in zip(elastic.coef_,Housing.columns):\n",
        "    coef_dict_baseline[feat] = coef\n",
        "coef_dict_baseline\n"
      ],
      "execution_count": 69,
      "outputs": [
        {
          "output_type": "execute_result",
          "data": {
            "text/plain": [
              "{'bathrooms': 8433.172226442668,\n",
              " 'bedrooms': 26501.21957043956,\n",
              " 'condition': 26370.23071727132,\n",
              " 'floors': 12419.80666685789,\n",
              " 'grade': 22141.62031780805,\n",
              " 'price': 17774.860482561206,\n",
              " 'sqft_above': 13567.739996417738,\n",
              " 'sqft_basement': -3964.9004533649095,\n",
              " 'sqft_living': 2162.5326855854414,\n",
              " 'sqft_living15': 1440.4403064920439,\n",
              " 'sqft_lot': 7867.883998780808,\n",
              " 'view': 3733.836776467126,\n",
              " 'waterfront': 16849.328338190782,\n",
              " 'yr_built': 6015.289624033815,\n",
              " 'yr_renovated': 21390.0893809112}"
            ]
          },
          "metadata": {},
          "execution_count": 69
        }
      ]
    }
  ]
}